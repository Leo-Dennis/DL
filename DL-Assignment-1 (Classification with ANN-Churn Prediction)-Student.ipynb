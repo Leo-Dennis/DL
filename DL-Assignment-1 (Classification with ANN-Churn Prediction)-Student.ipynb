{
 "cells": [
  {
   "cell_type": "markdown",
   "metadata": {},
   "source": [
    "___\n",
    "\n",
    "<p style=\"text-align: center;\"><img src=\"https://docs.google.com/uc?id=1lY0Uj5R04yMY3-ZppPWxqCr5pvBLYPnV\" class=\"img-fluid\" alt=\"CLRSWY\"></p>\n",
    "\n",
    "___"
   ]
  },
  {
   "cell_type": "markdown",
   "metadata": {},
   "source": [
    "<h1 style=\"text-align: center;\">Deep Learning<br><br>Assignment-1 (ANN)<br><br>Churn Prediction for Bank Customer<br><h1>"
   ]
  },
  {
   "cell_type": "markdown",
   "metadata": {},
   "source": [
    "## Dataset Info"
   ]
  },
  {
   "cell_type": "markdown",
   "metadata": {},
   "source": [
    "We have a dataset in which there are details of a bank's customers and the target variable is a binary variable reflecting the fact whether the customer left the bank (closed his account) or he continues to be a customer."
   ]
  },
  {
   "cell_type": "markdown",
   "metadata": {},
   "source": [
    "## Improt Libraries"
   ]
  },
  {
   "cell_type": "code",
   "execution_count": 1,
   "metadata": {
    "ExecuteTime": {
     "end_time": "2022-03-11T16:49:38.324464Z",
     "start_time": "2022-03-11T16:49:27.728154Z"
    }
   },
   "outputs": [],
   "source": [
    "import numpy as np\n",
    "import pandas as pd\n",
    "import matplotlib.pyplot as plt\n",
    "import seaborn as sns\n",
    "\n",
    "import warnings\n",
    "warnings.filterwarnings(\"ignore\")\n",
    "warnings.warn(\"this will not show\")\n",
    "\n",
    "plt.rcParams[\"figure.figsize\"] = (10, 6)\n",
    "\n",
    "sns.set_style(\"whitegrid\")\n",
    "pd.set_option('display.float_format', lambda x: '%.3f' % x)\n",
    "\n",
    "# Set it None to display all rows in the dataframe\n",
    "# pd.set_option('display.max_rows', None)\n",
    "\n",
    "# Set it to None to display all columns in the dataframe\n",
    "pd.set_option('display.max_columns', None)"
   ]
  },
  {
   "cell_type": "code",
   "execution_count": 2,
   "metadata": {},
   "outputs": [
    {
     "data": {
      "text/html": [
       "<style type=\"text/css\">\n",
       "table.dataframe td, table.dataframe th {\n",
       "    border: 1px  green solid !important;\n",
       "  color: black !important;\n",
       "}\n",
       "</style><style>.container { width:100% !important; }\n"
      ],
      "text/plain": [
       "<IPython.core.display.HTML object>"
      ]
     },
     "metadata": {},
     "output_type": "display_data"
    }
   ],
   "source": [
    "%%HTML\n",
    "<style type=\"text/css\">\n",
    "table.dataframe td, table.dataframe th {\n",
    "    border: 1px  green solid !important;\n",
    "  color: black !important;\n",
    "}\n",
    "</style><style>.container { width:100% !important; }"
   ]
  },
  {
   "cell_type": "markdown",
   "metadata": {},
   "source": [
    "## Indest Data"
   ]
  },
  {
   "cell_type": "code",
   "execution_count": 3,
   "metadata": {},
   "outputs": [
    {
     "data": {
      "text/html": [
       "<div>\n",
       "<style scoped>\n",
       "    .dataframe tbody tr th:only-of-type {\n",
       "        vertical-align: middle;\n",
       "    }\n",
       "\n",
       "    .dataframe tbody tr th {\n",
       "        vertical-align: top;\n",
       "    }\n",
       "\n",
       "    .dataframe thead th {\n",
       "        text-align: right;\n",
       "    }\n",
       "</style>\n",
       "<table border=\"1\" class=\"dataframe\">\n",
       "  <thead>\n",
       "    <tr style=\"text-align: right;\">\n",
       "      <th></th>\n",
       "      <th>RowNumber</th>\n",
       "      <th>CustomerId</th>\n",
       "      <th>Surname</th>\n",
       "      <th>CreditScore</th>\n",
       "      <th>Geography</th>\n",
       "      <th>Gender</th>\n",
       "      <th>Age</th>\n",
       "      <th>Tenure</th>\n",
       "      <th>Balance</th>\n",
       "      <th>NumOfProducts</th>\n",
       "      <th>HasCrCard</th>\n",
       "      <th>IsActiveMember</th>\n",
       "      <th>EstimatedSalary</th>\n",
       "      <th>Exited</th>\n",
       "    </tr>\n",
       "  </thead>\n",
       "  <tbody>\n",
       "    <tr>\n",
       "      <th>0</th>\n",
       "      <td>1</td>\n",
       "      <td>15634602</td>\n",
       "      <td>Hargrave</td>\n",
       "      <td>619</td>\n",
       "      <td>France</td>\n",
       "      <td>Female</td>\n",
       "      <td>42</td>\n",
       "      <td>2</td>\n",
       "      <td>0.000</td>\n",
       "      <td>1</td>\n",
       "      <td>1</td>\n",
       "      <td>1</td>\n",
       "      <td>101348.880</td>\n",
       "      <td>1</td>\n",
       "    </tr>\n",
       "    <tr>\n",
       "      <th>1</th>\n",
       "      <td>2</td>\n",
       "      <td>15647311</td>\n",
       "      <td>Hill</td>\n",
       "      <td>608</td>\n",
       "      <td>Spain</td>\n",
       "      <td>Female</td>\n",
       "      <td>41</td>\n",
       "      <td>1</td>\n",
       "      <td>83807.860</td>\n",
       "      <td>1</td>\n",
       "      <td>0</td>\n",
       "      <td>1</td>\n",
       "      <td>112542.580</td>\n",
       "      <td>0</td>\n",
       "    </tr>\n",
       "    <tr>\n",
       "      <th>2</th>\n",
       "      <td>3</td>\n",
       "      <td>15619304</td>\n",
       "      <td>Onio</td>\n",
       "      <td>502</td>\n",
       "      <td>France</td>\n",
       "      <td>Female</td>\n",
       "      <td>42</td>\n",
       "      <td>8</td>\n",
       "      <td>159660.800</td>\n",
       "      <td>3</td>\n",
       "      <td>1</td>\n",
       "      <td>0</td>\n",
       "      <td>113931.570</td>\n",
       "      <td>1</td>\n",
       "    </tr>\n",
       "    <tr>\n",
       "      <th>3</th>\n",
       "      <td>4</td>\n",
       "      <td>15701354</td>\n",
       "      <td>Boni</td>\n",
       "      <td>699</td>\n",
       "      <td>France</td>\n",
       "      <td>Female</td>\n",
       "      <td>39</td>\n",
       "      <td>1</td>\n",
       "      <td>0.000</td>\n",
       "      <td>2</td>\n",
       "      <td>0</td>\n",
       "      <td>0</td>\n",
       "      <td>93826.630</td>\n",
       "      <td>0</td>\n",
       "    </tr>\n",
       "    <tr>\n",
       "      <th>4</th>\n",
       "      <td>5</td>\n",
       "      <td>15737888</td>\n",
       "      <td>Mitchell</td>\n",
       "      <td>850</td>\n",
       "      <td>Spain</td>\n",
       "      <td>Female</td>\n",
       "      <td>43</td>\n",
       "      <td>2</td>\n",
       "      <td>125510.820</td>\n",
       "      <td>1</td>\n",
       "      <td>1</td>\n",
       "      <td>1</td>\n",
       "      <td>79084.100</td>\n",
       "      <td>0</td>\n",
       "    </tr>\n",
       "    <tr>\n",
       "      <th>...</th>\n",
       "      <td>...</td>\n",
       "      <td>...</td>\n",
       "      <td>...</td>\n",
       "      <td>...</td>\n",
       "      <td>...</td>\n",
       "      <td>...</td>\n",
       "      <td>...</td>\n",
       "      <td>...</td>\n",
       "      <td>...</td>\n",
       "      <td>...</td>\n",
       "      <td>...</td>\n",
       "      <td>...</td>\n",
       "      <td>...</td>\n",
       "      <td>...</td>\n",
       "    </tr>\n",
       "    <tr>\n",
       "      <th>9995</th>\n",
       "      <td>9996</td>\n",
       "      <td>15606229</td>\n",
       "      <td>Obijiaku</td>\n",
       "      <td>771</td>\n",
       "      <td>France</td>\n",
       "      <td>Male</td>\n",
       "      <td>39</td>\n",
       "      <td>5</td>\n",
       "      <td>0.000</td>\n",
       "      <td>2</td>\n",
       "      <td>1</td>\n",
       "      <td>0</td>\n",
       "      <td>96270.640</td>\n",
       "      <td>0</td>\n",
       "    </tr>\n",
       "    <tr>\n",
       "      <th>9996</th>\n",
       "      <td>9997</td>\n",
       "      <td>15569892</td>\n",
       "      <td>Johnstone</td>\n",
       "      <td>516</td>\n",
       "      <td>France</td>\n",
       "      <td>Male</td>\n",
       "      <td>35</td>\n",
       "      <td>10</td>\n",
       "      <td>57369.610</td>\n",
       "      <td>1</td>\n",
       "      <td>1</td>\n",
       "      <td>1</td>\n",
       "      <td>101699.770</td>\n",
       "      <td>0</td>\n",
       "    </tr>\n",
       "    <tr>\n",
       "      <th>9997</th>\n",
       "      <td>9998</td>\n",
       "      <td>15584532</td>\n",
       "      <td>Liu</td>\n",
       "      <td>709</td>\n",
       "      <td>France</td>\n",
       "      <td>Female</td>\n",
       "      <td>36</td>\n",
       "      <td>7</td>\n",
       "      <td>0.000</td>\n",
       "      <td>1</td>\n",
       "      <td>0</td>\n",
       "      <td>1</td>\n",
       "      <td>42085.580</td>\n",
       "      <td>1</td>\n",
       "    </tr>\n",
       "    <tr>\n",
       "      <th>9998</th>\n",
       "      <td>9999</td>\n",
       "      <td>15682355</td>\n",
       "      <td>Sabbatini</td>\n",
       "      <td>772</td>\n",
       "      <td>Germany</td>\n",
       "      <td>Male</td>\n",
       "      <td>42</td>\n",
       "      <td>3</td>\n",
       "      <td>75075.310</td>\n",
       "      <td>2</td>\n",
       "      <td>1</td>\n",
       "      <td>0</td>\n",
       "      <td>92888.520</td>\n",
       "      <td>1</td>\n",
       "    </tr>\n",
       "    <tr>\n",
       "      <th>9999</th>\n",
       "      <td>10000</td>\n",
       "      <td>15628319</td>\n",
       "      <td>Walker</td>\n",
       "      <td>792</td>\n",
       "      <td>France</td>\n",
       "      <td>Female</td>\n",
       "      <td>28</td>\n",
       "      <td>4</td>\n",
       "      <td>130142.790</td>\n",
       "      <td>1</td>\n",
       "      <td>1</td>\n",
       "      <td>0</td>\n",
       "      <td>38190.780</td>\n",
       "      <td>0</td>\n",
       "    </tr>\n",
       "  </tbody>\n",
       "</table>\n",
       "<p>10000 rows × 14 columns</p>\n",
       "</div>"
      ],
      "text/plain": [
       "      RowNumber  CustomerId    Surname  CreditScore Geography  Gender  Age  \\\n",
       "0             1    15634602   Hargrave          619    France  Female   42   \n",
       "1             2    15647311       Hill          608     Spain  Female   41   \n",
       "2             3    15619304       Onio          502    France  Female   42   \n",
       "3             4    15701354       Boni          699    France  Female   39   \n",
       "4             5    15737888   Mitchell          850     Spain  Female   43   \n",
       "...         ...         ...        ...          ...       ...     ...  ...   \n",
       "9995       9996    15606229   Obijiaku          771    France    Male   39   \n",
       "9996       9997    15569892  Johnstone          516    France    Male   35   \n",
       "9997       9998    15584532        Liu          709    France  Female   36   \n",
       "9998       9999    15682355  Sabbatini          772   Germany    Male   42   \n",
       "9999      10000    15628319     Walker          792    France  Female   28   \n",
       "\n",
       "      Tenure    Balance  NumOfProducts  HasCrCard  IsActiveMember  \\\n",
       "0          2      0.000              1          1               1   \n",
       "1          1  83807.860              1          0               1   \n",
       "2          8 159660.800              3          1               0   \n",
       "3          1      0.000              2          0               0   \n",
       "4          2 125510.820              1          1               1   \n",
       "...      ...        ...            ...        ...             ...   \n",
       "9995       5      0.000              2          1               0   \n",
       "9996      10  57369.610              1          1               1   \n",
       "9997       7      0.000              1          0               1   \n",
       "9998       3  75075.310              2          1               0   \n",
       "9999       4 130142.790              1          1               0   \n",
       "\n",
       "      EstimatedSalary  Exited  \n",
       "0          101348.880       1  \n",
       "1          112542.580       0  \n",
       "2          113931.570       1  \n",
       "3           93826.630       0  \n",
       "4           79084.100       0  \n",
       "...               ...     ...  \n",
       "9995        96270.640       0  \n",
       "9996       101699.770       0  \n",
       "9997        42085.580       1  \n",
       "9998        92888.520       1  \n",
       "9999        38190.780       0  \n",
       "\n",
       "[10000 rows x 14 columns]"
      ]
     },
     "execution_count": 3,
     "metadata": {},
     "output_type": "execute_result"
    }
   ],
   "source": [
    "df0 = pd.read_csv(\"Churn_Modelling.csv\")\n",
    "df = df0.copy()\n",
    "df"
   ]
  },
  {
   "cell_type": "markdown",
   "metadata": {},
   "source": [
    "## Exploratory Data Analysis and Visualization"
   ]
  },
  {
   "cell_type": "markdown",
   "metadata": {},
   "source": [
    "1. Implement basic steps to see how is your data looks like\n",
    "2. Check for missing values\n",
    "3. Drop the features that not suitable for modelling\n",
    "4. Implement basic visualization steps such as histogram, countplot, heatmap\n",
    "5. Convert categorical variables to dummy variables"
   ]
  },
  {
   "cell_type": "code",
   "execution_count": 4,
   "metadata": {},
   "outputs": [
    {
     "data": {
      "text/plain": [
       "Index(['RowNumber', 'CustomerId', 'Surname', 'CreditScore', 'Geography',\n",
       "       'Gender', 'Age', 'Tenure', 'Balance', 'NumOfProducts', 'HasCrCard',\n",
       "       'IsActiveMember', 'EstimatedSalary', 'Exited'],\n",
       "      dtype='object')"
      ]
     },
     "execution_count": 4,
     "metadata": {},
     "output_type": "execute_result"
    }
   ],
   "source": [
    "df.columns"
   ]
  },
  {
   "cell_type": "code",
   "execution_count": 5,
   "metadata": {},
   "outputs": [
    {
     "data": {
      "text/plain": [
       "(10000, 14)"
      ]
     },
     "execution_count": 5,
     "metadata": {},
     "output_type": "execute_result"
    }
   ],
   "source": [
    "df.shape"
   ]
  },
  {
   "cell_type": "code",
   "execution_count": 6,
   "metadata": {},
   "outputs": [
    {
     "name": "stdout",
     "output_type": "stream",
     "text": [
      "<class 'pandas.core.frame.DataFrame'>\n",
      "RangeIndex: 10000 entries, 0 to 9999\n",
      "Data columns (total 14 columns):\n",
      " #   Column           Non-Null Count  Dtype  \n",
      "---  ------           --------------  -----  \n",
      " 0   RowNumber        10000 non-null  int64  \n",
      " 1   CustomerId       10000 non-null  int64  \n",
      " 2   Surname          10000 non-null  object \n",
      " 3   CreditScore      10000 non-null  int64  \n",
      " 4   Geography        10000 non-null  object \n",
      " 5   Gender           10000 non-null  object \n",
      " 6   Age              10000 non-null  int64  \n",
      " 7   Tenure           10000 non-null  int64  \n",
      " 8   Balance          10000 non-null  float64\n",
      " 9   NumOfProducts    10000 non-null  int64  \n",
      " 10  HasCrCard        10000 non-null  int64  \n",
      " 11  IsActiveMember   10000 non-null  int64  \n",
      " 12  EstimatedSalary  10000 non-null  float64\n",
      " 13  Exited           10000 non-null  int64  \n",
      "dtypes: float64(2), int64(9), object(3)\n",
      "memory usage: 1.1+ MB\n"
     ]
    }
   ],
   "source": [
    "df.info()"
   ]
  },
  {
   "cell_type": "code",
   "execution_count": 7,
   "metadata": {},
   "outputs": [],
   "source": [
    "df.drop([\"RowNumber\", \"CustomerId\", \"Surname\"], axis=1, inplace=True)"
   ]
  },
  {
   "cell_type": "code",
   "execution_count": 8,
   "metadata": {},
   "outputs": [
    {
     "data": {
      "text/html": [
       "<div>\n",
       "<style scoped>\n",
       "    .dataframe tbody tr th:only-of-type {\n",
       "        vertical-align: middle;\n",
       "    }\n",
       "\n",
       "    .dataframe tbody tr th {\n",
       "        vertical-align: top;\n",
       "    }\n",
       "\n",
       "    .dataframe thead th {\n",
       "        text-align: right;\n",
       "    }\n",
       "</style>\n",
       "<table border=\"1\" class=\"dataframe\">\n",
       "  <thead>\n",
       "    <tr style=\"text-align: right;\">\n",
       "      <th></th>\n",
       "      <th>CreditScore</th>\n",
       "      <th>Geography</th>\n",
       "      <th>Gender</th>\n",
       "      <th>Age</th>\n",
       "      <th>Tenure</th>\n",
       "      <th>Balance</th>\n",
       "      <th>NumOfProducts</th>\n",
       "      <th>HasCrCard</th>\n",
       "      <th>IsActiveMember</th>\n",
       "      <th>EstimatedSalary</th>\n",
       "      <th>Exited</th>\n",
       "    </tr>\n",
       "  </thead>\n",
       "  <tbody>\n",
       "    <tr>\n",
       "      <th>0</th>\n",
       "      <td>619</td>\n",
       "      <td>France</td>\n",
       "      <td>Female</td>\n",
       "      <td>42</td>\n",
       "      <td>2</td>\n",
       "      <td>0.000</td>\n",
       "      <td>1</td>\n",
       "      <td>1</td>\n",
       "      <td>1</td>\n",
       "      <td>101348.880</td>\n",
       "      <td>1</td>\n",
       "    </tr>\n",
       "    <tr>\n",
       "      <th>1</th>\n",
       "      <td>608</td>\n",
       "      <td>Spain</td>\n",
       "      <td>Female</td>\n",
       "      <td>41</td>\n",
       "      <td>1</td>\n",
       "      <td>83807.860</td>\n",
       "      <td>1</td>\n",
       "      <td>0</td>\n",
       "      <td>1</td>\n",
       "      <td>112542.580</td>\n",
       "      <td>0</td>\n",
       "    </tr>\n",
       "    <tr>\n",
       "      <th>2</th>\n",
       "      <td>502</td>\n",
       "      <td>France</td>\n",
       "      <td>Female</td>\n",
       "      <td>42</td>\n",
       "      <td>8</td>\n",
       "      <td>159660.800</td>\n",
       "      <td>3</td>\n",
       "      <td>1</td>\n",
       "      <td>0</td>\n",
       "      <td>113931.570</td>\n",
       "      <td>1</td>\n",
       "    </tr>\n",
       "    <tr>\n",
       "      <th>3</th>\n",
       "      <td>699</td>\n",
       "      <td>France</td>\n",
       "      <td>Female</td>\n",
       "      <td>39</td>\n",
       "      <td>1</td>\n",
       "      <td>0.000</td>\n",
       "      <td>2</td>\n",
       "      <td>0</td>\n",
       "      <td>0</td>\n",
       "      <td>93826.630</td>\n",
       "      <td>0</td>\n",
       "    </tr>\n",
       "    <tr>\n",
       "      <th>4</th>\n",
       "      <td>850</td>\n",
       "      <td>Spain</td>\n",
       "      <td>Female</td>\n",
       "      <td>43</td>\n",
       "      <td>2</td>\n",
       "      <td>125510.820</td>\n",
       "      <td>1</td>\n",
       "      <td>1</td>\n",
       "      <td>1</td>\n",
       "      <td>79084.100</td>\n",
       "      <td>0</td>\n",
       "    </tr>\n",
       "  </tbody>\n",
       "</table>\n",
       "</div>"
      ],
      "text/plain": [
       "   CreditScore Geography  Gender  Age  Tenure    Balance  NumOfProducts  \\\n",
       "0          619    France  Female   42       2      0.000              1   \n",
       "1          608     Spain  Female   41       1  83807.860              1   \n",
       "2          502    France  Female   42       8 159660.800              3   \n",
       "3          699    France  Female   39       1      0.000              2   \n",
       "4          850     Spain  Female   43       2 125510.820              1   \n",
       "\n",
       "   HasCrCard  IsActiveMember  EstimatedSalary  Exited  \n",
       "0          1               1       101348.880       1  \n",
       "1          0               1       112542.580       0  \n",
       "2          1               0       113931.570       1  \n",
       "3          0               0        93826.630       0  \n",
       "4          1               1        79084.100       0  "
      ]
     },
     "execution_count": 8,
     "metadata": {},
     "output_type": "execute_result"
    }
   ],
   "source": [
    "df.head()"
   ]
  },
  {
   "cell_type": "code",
   "execution_count": 9,
   "metadata": {},
   "outputs": [
    {
     "data": {
      "text/plain": [
       "False    10000\n",
       "dtype: int64"
      ]
     },
     "execution_count": 9,
     "metadata": {},
     "output_type": "execute_result"
    }
   ],
   "source": [
    "df.duplicated().value_counts()"
   ]
  },
  {
   "cell_type": "code",
   "execution_count": 10,
   "metadata": {},
   "outputs": [
    {
     "data": {
      "text/plain": [
       "(10000, 11)"
      ]
     },
     "execution_count": 10,
     "metadata": {},
     "output_type": "execute_result"
    }
   ],
   "source": [
    "df.shape"
   ]
  },
  {
   "cell_type": "code",
   "execution_count": 11,
   "metadata": {},
   "outputs": [
    {
     "data": {
      "image/png": "[encoded data removed]",
      "text/plain": [
       "<Figure size 720x432 with 1 Axes>"
      ]
     },
     "metadata": {},
     "output_type": "display_data"
    }
   ],
   "source": [
    "sns.countplot(df['Exited']);"
   ]
  },
  {
   "cell_type": "code",
   "execution_count": 12,
   "metadata": {},
   "outputs": [
    {
     "data": {
      "text/plain": [
       "<AxesSubplot:>"
      ]
     },
     "execution_count": 12,
     "metadata": {},
     "output_type": "execute_result"
    },
    {
     "data": {
      "image/png": "[encoded data removed]",
      "text/plain": [
       "<Figure size 720x432 with 2 Axes>"
      ]
     },
     "metadata": {},
     "output_type": "display_data"
    }
   ],
   "source": [
    "sns.heatmap(df.corr(), annot=True)"
   ]
  },
  {
   "cell_type": "code",
   "execution_count": 13,
   "metadata": {},
   "outputs": [
    {
     "data": {
      "image/png": "[encoded data removed]",
      "text/plain": [
       "<Figure size 720x432 with 1 Axes>"
      ]
     },
     "metadata": {},
     "output_type": "display_data"
    }
   ],
   "source": [
    "df.corr()['Exited'].sort_values().drop(\"Exited\").plot(kind = \"barh\");"
   ]
  },
  {
   "cell_type": "code",
   "execution_count": 14,
   "metadata": {},
   "outputs": [],
   "source": [
    "df = pd.get_dummies(df, columns=['Geography', 'Gender'], drop_first=True)"
   ]
  },
  {
   "cell_type": "code",
   "execution_count": 15,
   "metadata": {
    "scrolled": true
   },
   "outputs": [
    {
     "data": {
      "text/html": [
       "<div>\n",
       "<style scoped>\n",
       "    .dataframe tbody tr th:only-of-type {\n",
       "        vertical-align: middle;\n",
       "    }\n",
       "\n",
       "    .dataframe tbody tr th {\n",
       "        vertical-align: top;\n",
       "    }\n",
       "\n",
       "    .dataframe thead th {\n",
       "        text-align: right;\n",
       "    }\n",
       "</style>\n",
       "<table border=\"1\" class=\"dataframe\">\n",
       "  <thead>\n",
       "    <tr style=\"text-align: right;\">\n",
       "      <th></th>\n",
       "      <th>CreditScore</th>\n",
       "      <th>Age</th>\n",
       "      <th>Tenure</th>\n",
       "      <th>Balance</th>\n",
       "      <th>NumOfProducts</th>\n",
       "      <th>HasCrCard</th>\n",
       "      <th>IsActiveMember</th>\n",
       "      <th>EstimatedSalary</th>\n",
       "      <th>Exited</th>\n",
       "      <th>Geography_Germany</th>\n",
       "      <th>Geography_Spain</th>\n",
       "      <th>Gender_Male</th>\n",
       "    </tr>\n",
       "  </thead>\n",
       "  <tbody>\n",
       "    <tr>\n",
       "      <th>0</th>\n",
       "      <td>619</td>\n",
       "      <td>42</td>\n",
       "      <td>2</td>\n",
       "      <td>0.000</td>\n",
       "      <td>1</td>\n",
       "      <td>1</td>\n",
       "      <td>1</td>\n",
       "      <td>101348.880</td>\n",
       "      <td>1</td>\n",
       "      <td>0</td>\n",
       "      <td>0</td>\n",
       "      <td>0</td>\n",
       "    </tr>\n",
       "    <tr>\n",
       "      <th>1</th>\n",
       "      <td>608</td>\n",
       "      <td>41</td>\n",
       "      <td>1</td>\n",
       "      <td>83807.860</td>\n",
       "      <td>1</td>\n",
       "      <td>0</td>\n",
       "      <td>1</td>\n",
       "      <td>112542.580</td>\n",
       "      <td>0</td>\n",
       "      <td>0</td>\n",
       "      <td>1</td>\n",
       "      <td>0</td>\n",
       "    </tr>\n",
       "    <tr>\n",
       "      <th>2</th>\n",
       "      <td>502</td>\n",
       "      <td>42</td>\n",
       "      <td>8</td>\n",
       "      <td>159660.800</td>\n",
       "      <td>3</td>\n",
       "      <td>1</td>\n",
       "      <td>0</td>\n",
       "      <td>113931.570</td>\n",
       "      <td>1</td>\n",
       "      <td>0</td>\n",
       "      <td>0</td>\n",
       "      <td>0</td>\n",
       "    </tr>\n",
       "    <tr>\n",
       "      <th>3</th>\n",
       "      <td>699</td>\n",
       "      <td>39</td>\n",
       "      <td>1</td>\n",
       "      <td>0.000</td>\n",
       "      <td>2</td>\n",
       "      <td>0</td>\n",
       "      <td>0</td>\n",
       "      <td>93826.630</td>\n",
       "      <td>0</td>\n",
       "      <td>0</td>\n",
       "      <td>0</td>\n",
       "      <td>0</td>\n",
       "    </tr>\n",
       "    <tr>\n",
       "      <th>4</th>\n",
       "      <td>850</td>\n",
       "      <td>43</td>\n",
       "      <td>2</td>\n",
       "      <td>125510.820</td>\n",
       "      <td>1</td>\n",
       "      <td>1</td>\n",
       "      <td>1</td>\n",
       "      <td>79084.100</td>\n",
       "      <td>0</td>\n",
       "      <td>0</td>\n",
       "      <td>1</td>\n",
       "      <td>0</td>\n",
       "    </tr>\n",
       "    <tr>\n",
       "      <th>...</th>\n",
       "      <td>...</td>\n",
       "      <td>...</td>\n",
       "      <td>...</td>\n",
       "      <td>...</td>\n",
       "      <td>...</td>\n",
       "      <td>...</td>\n",
       "      <td>...</td>\n",
       "      <td>...</td>\n",
       "      <td>...</td>\n",
       "      <td>...</td>\n",
       "      <td>...</td>\n",
       "      <td>...</td>\n",
       "    </tr>\n",
       "    <tr>\n",
       "      <th>9995</th>\n",
       "      <td>771</td>\n",
       "      <td>39</td>\n",
       "      <td>5</td>\n",
       "      <td>0.000</td>\n",
       "      <td>2</td>\n",
       "      <td>1</td>\n",
       "      <td>0</td>\n",
       "      <td>96270.640</td>\n",
       "      <td>0</td>\n",
       "      <td>0</td>\n",
       "      <td>0</td>\n",
       "      <td>1</td>\n",
       "    </tr>\n",
       "    <tr>\n",
       "      <th>9996</th>\n",
       "      <td>516</td>\n",
       "      <td>35</td>\n",
       "      <td>10</td>\n",
       "      <td>57369.610</td>\n",
       "      <td>1</td>\n",
       "      <td>1</td>\n",
       "      <td>1</td>\n",
       "      <td>101699.770</td>\n",
       "      <td>0</td>\n",
       "      <td>0</td>\n",
       "      <td>0</td>\n",
       "      <td>1</td>\n",
       "    </tr>\n",
       "    <tr>\n",
       "      <th>9997</th>\n",
       "      <td>709</td>\n",
       "      <td>36</td>\n",
       "      <td>7</td>\n",
       "      <td>0.000</td>\n",
       "      <td>1</td>\n",
       "      <td>0</td>\n",
       "      <td>1</td>\n",
       "      <td>42085.580</td>\n",
       "      <td>1</td>\n",
       "      <td>0</td>\n",
       "      <td>0</td>\n",
       "      <td>0</td>\n",
       "    </tr>\n",
       "    <tr>\n",
       "      <th>9998</th>\n",
       "      <td>772</td>\n",
       "      <td>42</td>\n",
       "      <td>3</td>\n",
       "      <td>75075.310</td>\n",
       "      <td>2</td>\n",
       "      <td>1</td>\n",
       "      <td>0</td>\n",
       "      <td>92888.520</td>\n",
       "      <td>1</td>\n",
       "      <td>1</td>\n",
       "      <td>0</td>\n",
       "      <td>1</td>\n",
       "    </tr>\n",
       "    <tr>\n",
       "      <th>9999</th>\n",
       "      <td>792</td>\n",
       "      <td>28</td>\n",
       "      <td>4</td>\n",
       "      <td>130142.790</td>\n",
       "      <td>1</td>\n",
       "      <td>1</td>\n",
       "      <td>0</td>\n",
       "      <td>38190.780</td>\n",
       "      <td>0</td>\n",
       "      <td>0</td>\n",
       "      <td>0</td>\n",
       "      <td>0</td>\n",
       "    </tr>\n",
       "  </tbody>\n",
       "</table>\n",
       "<p>10000 rows × 12 columns</p>\n",
       "</div>"
      ],
      "text/plain": [
       "      CreditScore  Age  Tenure    Balance  NumOfProducts  HasCrCard  \\\n",
       "0             619   42       2      0.000              1          1   \n",
       "1             608   41       1  83807.860              1          0   \n",
       "2             502   42       8 159660.800              3          1   \n",
       "3             699   39       1      0.000              2          0   \n",
       "4             850   43       2 125510.820              1          1   \n",
       "...           ...  ...     ...        ...            ...        ...   \n",
       "9995          771   39       5      0.000              2          1   \n",
       "9996          516   35      10  57369.610              1          1   \n",
       "9997          709   36       7      0.000              1          0   \n",
       "9998          772   42       3  75075.310              2          1   \n",
       "9999          792   28       4 130142.790              1          1   \n",
       "\n",
       "      IsActiveMember  EstimatedSalary  Exited  Geography_Germany  \\\n",
       "0                  1       101348.880       1                  0   \n",
       "1                  1       112542.580       0                  0   \n",
       "2                  0       113931.570       1                  0   \n",
       "3                  0        93826.630       0                  0   \n",
       "4                  1        79084.100       0                  0   \n",
       "...              ...              ...     ...                ...   \n",
       "9995               0        96270.640       0                  0   \n",
       "9996               1       101699.770       0                  0   \n",
       "9997               1        42085.580       1                  0   \n",
       "9998               0        92888.520       1                  1   \n",
       "9999               0        38190.780       0                  0   \n",
       "\n",
       "      Geography_Spain  Gender_Male  \n",
       "0                   0            0  \n",
       "1                   1            0  \n",
       "2                   0            0  \n",
       "3                   0            0  \n",
       "4                   1            0  \n",
       "...               ...          ...  \n",
       "9995                0            1  \n",
       "9996                0            1  \n",
       "9997                0            0  \n",
       "9998                0            1  \n",
       "9999                0            0  \n",
       "\n",
       "[10000 rows x 12 columns]"
      ]
     },
     "execution_count": 15,
     "metadata": {},
     "output_type": "execute_result"
    }
   ],
   "source": [
    "df"
   ]
  },
  {
   "cell_type": "code",
   "execution_count": null,
   "metadata": {},
   "outputs": [],
   "source": []
  },
  {
   "cell_type": "code",
   "execution_count": null,
   "metadata": {},
   "outputs": [],
   "source": []
  },
  {
   "cell_type": "markdown",
   "metadata": {},
   "source": [
    "## Preprocessing of Data\n",
    "- Train | Test Split, Scalling"
   ]
  },
  {
   "cell_type": "code",
   "execution_count": 16,
   "metadata": {},
   "outputs": [],
   "source": [
    "from sklearn.model_selection import train_test_split\n",
    "from sklearn.preprocessing import MinMaxScaler"
   ]
  },
  {
   "cell_type": "code",
   "execution_count": 17,
   "metadata": {},
   "outputs": [],
   "source": [
    "X = df.drop('Exited', axis = 1)\n",
    "y = df['Exited'].values"
   ]
  },
  {
   "cell_type": "code",
   "execution_count": 18,
   "metadata": {},
   "outputs": [],
   "source": [
    "seed = 42"
   ]
  },
  {
   "cell_type": "code",
   "execution_count": 19,
   "metadata": {},
   "outputs": [],
   "source": [
    "X_train, X_test, y_train, y_test = train_test_split(X, y, stratify = y, test_size = 0.10, random_state = seed)"
   ]
  },
  {
   "cell_type": "code",
   "execution_count": 20,
   "metadata": {},
   "outputs": [],
   "source": [
    "scaler = MinMaxScaler()"
   ]
  },
  {
   "cell_type": "code",
   "execution_count": 21,
   "metadata": {},
   "outputs": [],
   "source": [
    "X_train= scaler.fit_transform(X_train)\n",
    "X_test = scaler.transform(X_test)"
   ]
  },
  {
   "cell_type": "code",
   "execution_count": null,
   "metadata": {},
   "outputs": [],
   "source": []
  },
  {
   "cell_type": "code",
   "execution_count": null,
   "metadata": {},
   "outputs": [],
   "source": []
  },
  {
   "cell_type": "code",
   "execution_count": null,
   "metadata": {},
   "outputs": [],
   "source": []
  },
  {
   "cell_type": "markdown",
   "metadata": {
    "id": "Ha9hDt_AoGaE"
   },
   "source": [
    "## Modelling & Model Performance"
   ]
  },
  {
   "cell_type": "markdown",
   "metadata": {},
   "source": [
    "### Import related libraries"
   ]
  },
  {
   "cell_type": "code",
   "execution_count": 36,
   "metadata": {},
   "outputs": [],
   "source": [
    "import tensorflow as tf\n",
    "from tensorflow.keras.models import Sequential\n",
    "from tensorflow.keras.layers import Dense, Activation\n",
    "from tensorflow.keras.callbacks import EarlyStopping\n",
    "from tensorflow.keras.optimizers import Adam\n",
    "from sklearn.metrics import classification_report, confusion_matrix\n",
    "from sklearn.metrics import roc_auc_score, roc_curve, precision_recall_curve, average_precision_score\n",
    "from sklearn.model_selection import cross_val_score, cross_validate\n",
    "from sklearn.model_selection import GridSearchCV"
   ]
  },
  {
   "cell_type": "code",
   "execution_count": 23,
   "metadata": {},
   "outputs": [
    {
     "data": {
      "text/plain": [
       "(9000, 11)"
      ]
     },
     "execution_count": 23,
     "metadata": {},
     "output_type": "execute_result"
    }
   ],
   "source": [
    "X_train.shape"
   ]
  },
  {
   "cell_type": "code",
   "execution_count": 24,
   "metadata": {},
   "outputs": [
    {
     "data": {
      "text/plain": [
       "(1000, 11)"
      ]
     },
     "execution_count": 24,
     "metadata": {},
     "output_type": "execute_result"
    }
   ],
   "source": [
    "X_test.shape"
   ]
  },
  {
   "cell_type": "markdown",
   "metadata": {},
   "source": [
    "### Creating Model"
   ]
  },
  {
   "cell_type": "markdown",
   "metadata": {},
   "source": [
    "### without class_weigth"
   ]
  },
  {
   "cell_type": "code",
   "execution_count": 40,
   "metadata": {},
   "outputs": [],
   "source": [
    "tf.random.set_seed(seed)\n",
    "\n",
    "model = Sequential()\n",
    "\n",
    "model.add(Dense(20, activation = \"relu\", input_dim = X_train.shape[1]))\n",
    "model.add(Dense(10, activation = \"relu\"))\n",
    "model.add(Dense(1, activation = \"sigmoid\"))\n",
    "\n",
    "opt = Adam(lr=0.001)\n",
    "model.compile(optimizer = opt, loss = \"binary_crossentropy\", metrics = [\"Recall\"])"
   ]
  },
  {
   "cell_type": "code",
   "execution_count": 41,
   "metadata": {},
   "outputs": [],
   "source": [
    "early_stop = EarlyStopping(monitor=\"val_loss\", mode=\"auto\", verbose=1, patience=15)"
   ]
  },
  {
   "cell_type": "code",
   "execution_count": 42,
   "metadata": {},
   "outputs": [
    {
     "name": "stdout",
     "output_type": "stream",
     "text": [
      "Epoch 1/200\n",
      "64/64 [==============================] - 4s 29ms/step - loss: 0.5172 - recall: 0.0000e+00 - val_loss: 0.4901 - val_recall: 0.0000e+00\n",
      "Epoch 2/200\n",
      "64/64 [==============================] - 1s 12ms/step - loss: 0.4887 - recall: 0.0000e+00 - val_loss: 0.4738 - val_recall: 0.0000e+00\n",
      "Epoch 3/200\n",
      "64/64 [==============================] - 1s 11ms/step - loss: 0.4767 - recall: 0.0000e+00 - val_loss: 0.4609 - val_recall: 0.0000e+00\n",
      "Epoch 4/200\n",
      "64/64 [==============================] - 1s 11ms/step - loss: 0.4669 - recall: 0.0000e+00 - val_loss: 0.4496 - val_recall: 0.0000e+00\n",
      "Epoch 5/200\n",
      "64/64 [==============================] - 1s 16ms/step - loss: 0.4589 - recall: 0.0000e+00 - val_loss: 0.4411 - val_recall: 0.0055\n",
      "Epoch 6/200\n",
      "64/64 [==============================] - 1s 12ms/step - loss: 0.4518 - recall: 0.0018 - val_loss: 0.4330 - val_recall: 0.0055\n",
      "Epoch 7/200\n",
      "64/64 [==============================] - 1s 11ms/step - loss: 0.4460 - recall: 0.0230 - val_loss: 0.4263 - val_recall: 0.0718\n",
      "Epoch 8/200\n",
      "64/64 [==============================] - 1s 10ms/step - loss: 0.4400 - recall: 0.0533 - val_loss: 0.4178 - val_recall: 0.1271\n",
      "Epoch 9/200\n",
      "64/64 [==============================] - 1s 8ms/step - loss: 0.4349 - recall: 0.0969 - val_loss: 0.4126 - val_recall: 0.2099\n",
      "Epoch 10/200\n",
      "64/64 [==============================] - 1s 8ms/step - loss: 0.4303 - recall: 0.1447 - val_loss: 0.4041 - val_recall: 0.2210\n",
      "Epoch 11/200\n",
      "64/64 [==============================] - 1s 9ms/step - loss: 0.4261 - recall: 0.1604 - val_loss: 0.3991 - val_recall: 0.2320\n",
      "Epoch 12/200\n",
      "64/64 [==============================] - 1s 11ms/step - loss: 0.4216 - recall: 0.1967 - val_loss: 0.3936 - val_recall: 0.2707\n",
      "Epoch 13/200\n",
      "64/64 [==============================] - 1s 13ms/step - loss: 0.4172 - recall: 0.1985 - val_loss: 0.3948 - val_recall: 0.3978\n",
      "Epoch 14/200\n",
      "64/64 [==============================] - 0s 7ms/step - loss: 0.4139 - recall: 0.2343 - val_loss: 0.3821 - val_recall: 0.3260\n",
      "Epoch 15/200\n",
      "64/64 [==============================] - 0s 7ms/step - loss: 0.4088 - recall: 0.2585 - val_loss: 0.3762 - val_recall: 0.3204\n",
      "Epoch 16/200\n",
      "64/64 [==============================] - 1s 8ms/step - loss: 0.4044 - recall: 0.2742 - val_loss: 0.3712 - val_recall: 0.3812\n",
      "Epoch 17/200\n",
      "64/64 [==============================] - 0s 6ms/step - loss: 0.3992 - recall: 0.2990 - val_loss: 0.3653 - val_recall: 0.3370\n",
      "Epoch 18/200\n",
      "64/64 [==============================] - 0s 6ms/step - loss: 0.3944 - recall: 0.3057 - val_loss: 0.3595 - val_recall: 0.3867\n",
      "Epoch 19/200\n",
      "64/64 [==============================] - 0s 4ms/step - loss: 0.3897 - recall: 0.3323 - val_loss: 0.3555 - val_recall: 0.4254\n",
      "Epoch 20/200\n",
      "64/64 [==============================] - 0s 4ms/step - loss: 0.3848 - recall: 0.3408 - val_loss: 0.3474 - val_recall: 0.4144\n",
      "Epoch 21/200\n",
      "64/64 [==============================] - 0s 6ms/step - loss: 0.3804 - recall: 0.3571 - val_loss: 0.3444 - val_recall: 0.4751\n",
      "Epoch 22/200\n",
      "64/64 [==============================] - 0s 5ms/step - loss: 0.3769 - recall: 0.3650 - val_loss: 0.3376 - val_recall: 0.4309\n",
      "Epoch 23/200\n",
      "64/64 [==============================] - 0s 5ms/step - loss: 0.3739 - recall: 0.3777 - val_loss: 0.3332 - val_recall: 0.4641\n",
      "Epoch 24/200\n",
      "64/64 [==============================] - 0s 4ms/step - loss: 0.3715 - recall: 0.3856 - val_loss: 0.3307 - val_recall: 0.4586\n",
      "Epoch 25/200\n",
      "64/64 [==============================] - 0s 4ms/step - loss: 0.3677 - recall: 0.4025 - val_loss: 0.3288 - val_recall: 0.4641\n",
      "Epoch 26/200\n",
      "64/64 [==============================] - 0s 4ms/step - loss: 0.3664 - recall: 0.3995 - val_loss: 0.3245 - val_recall: 0.4475\n",
      "Epoch 27/200\n",
      "64/64 [==============================] - 0s 4ms/step - loss: 0.3645 - recall: 0.4086 - val_loss: 0.3243 - val_recall: 0.5193\n",
      "Epoch 28/200\n",
      "64/64 [==============================] - 0s 4ms/step - loss: 0.3637 - recall: 0.4237 - val_loss: 0.3220 - val_recall: 0.5083\n",
      "Epoch 29/200\n",
      "64/64 [==============================] - 0s 4ms/step - loss: 0.3611 - recall: 0.4159 - val_loss: 0.3206 - val_recall: 0.5359\n",
      "Epoch 30/200\n",
      "64/64 [==============================] - 0s 4ms/step - loss: 0.3602 - recall: 0.4268 - val_loss: 0.3271 - val_recall: 0.6022\n",
      "Epoch 31/200\n",
      "64/64 [==============================] - 0s 5ms/step - loss: 0.3595 - recall: 0.4328 - val_loss: 0.3185 - val_recall: 0.5193\n",
      "Epoch 32/200\n",
      "64/64 [==============================] - 0s 5ms/step - loss: 0.3580 - recall: 0.4249 - val_loss: 0.3150 - val_recall: 0.4972\n",
      "Epoch 33/200\n",
      "64/64 [==============================] - 0s 5ms/step - loss: 0.3564 - recall: 0.4340 - val_loss: 0.3152 - val_recall: 0.5083\n",
      "Epoch 34/200\n",
      "64/64 [==============================] - 0s 4ms/step - loss: 0.3559 - recall: 0.4310 - val_loss: 0.3147 - val_recall: 0.5138\n",
      "Epoch 35/200\n",
      "64/64 [==============================] - 0s 4ms/step - loss: 0.3556 - recall: 0.4322 - val_loss: 0.3134 - val_recall: 0.5359\n",
      "Epoch 36/200\n",
      "64/64 [==============================] - 0s 4ms/step - loss: 0.3544 - recall: 0.4377 - val_loss: 0.3113 - val_recall: 0.4807\n",
      "Epoch 37/200\n",
      "64/64 [==============================] - 0s 4ms/step - loss: 0.3555 - recall: 0.4292 - val_loss: 0.3119 - val_recall: 0.5138\n",
      "Epoch 38/200\n",
      "64/64 [==============================] - 0s 4ms/step - loss: 0.3538 - recall: 0.4370 - val_loss: 0.3120 - val_recall: 0.5525\n",
      "Epoch 39/200\n",
      "64/64 [==============================] - 0s 4ms/step - loss: 0.3523 - recall: 0.4425 - val_loss: 0.3096 - val_recall: 0.5028\n",
      "Epoch 40/200\n",
      "64/64 [==============================] - 0s 4ms/step - loss: 0.3523 - recall: 0.4437 - val_loss: 0.3100 - val_recall: 0.4917\n",
      "Epoch 41/200\n",
      "64/64 [==============================] - 0s 4ms/step - loss: 0.3515 - recall: 0.4334 - val_loss: 0.3112 - val_recall: 0.5304\n",
      "Epoch 42/200\n",
      "64/64 [==============================] - 0s 4ms/step - loss: 0.3518 - recall: 0.4401 - val_loss: 0.3096 - val_recall: 0.4696\n",
      "Epoch 43/200\n",
      "64/64 [==============================] - 0s 4ms/step - loss: 0.3509 - recall: 0.4298 - val_loss: 0.3082 - val_recall: 0.5193\n",
      "Epoch 44/200\n",
      "64/64 [==============================] - 0s 4ms/step - loss: 0.3504 - recall: 0.4389 - val_loss: 0.3074 - val_recall: 0.5028\n",
      "Epoch 45/200\n",
      "64/64 [==============================] - 0s 4ms/step - loss: 0.3495 - recall: 0.4455 - val_loss: 0.3116 - val_recall: 0.5304\n",
      "Epoch 46/200\n",
      "64/64 [==============================] - 0s 4ms/step - loss: 0.3496 - recall: 0.4364 - val_loss: 0.3091 - val_recall: 0.5193\n",
      "Epoch 47/200\n",
      "64/64 [==============================] - 0s 4ms/step - loss: 0.3494 - recall: 0.4455 - val_loss: 0.3062 - val_recall: 0.5304\n",
      "Epoch 48/200\n",
      "64/64 [==============================] - 0s 4ms/step - loss: 0.3491 - recall: 0.4479 - val_loss: 0.3072 - val_recall: 0.5304\n",
      "Epoch 49/200\n",
      "64/64 [==============================] - 0s 4ms/step - loss: 0.3489 - recall: 0.4485 - val_loss: 0.3073 - val_recall: 0.4696\n",
      "Epoch 50/200\n",
      "64/64 [==============================] - 0s 3ms/step - loss: 0.3484 - recall: 0.4401 - val_loss: 0.3076 - val_recall: 0.5249\n",
      "Epoch 51/200\n",
      "64/64 [==============================] - 0s 4ms/step - loss: 0.3475 - recall: 0.4510 - val_loss: 0.3060 - val_recall: 0.5249\n",
      "Epoch 52/200\n",
      "64/64 [==============================] - 0s 4ms/step - loss: 0.3484 - recall: 0.4395 - val_loss: 0.3130 - val_recall: 0.6077\n",
      "Epoch 53/200\n",
      "64/64 [==============================] - 0s 4ms/step - loss: 0.3479 - recall: 0.4540 - val_loss: 0.3037 - val_recall: 0.4807\n",
      "Epoch 54/200\n",
      "64/64 [==============================] - 0s 5ms/step - loss: 0.3480 - recall: 0.4443 - val_loss: 0.3043 - val_recall: 0.4972\n",
      "Epoch 55/200\n",
      "64/64 [==============================] - 0s 4ms/step - loss: 0.3468 - recall: 0.4449 - val_loss: 0.3053 - val_recall: 0.5138\n",
      "Epoch 56/200\n",
      "64/64 [==============================] - 0s 4ms/step - loss: 0.3466 - recall: 0.4570 - val_loss: 0.3072 - val_recall: 0.5359\n",
      "Epoch 57/200\n",
      "64/64 [==============================] - 0s 4ms/step - loss: 0.3465 - recall: 0.4479 - val_loss: 0.3062 - val_recall: 0.5470\n",
      "Epoch 58/200\n",
      "64/64 [==============================] - 0s 5ms/step - loss: 0.3459 - recall: 0.4522 - val_loss: 0.3034 - val_recall: 0.5193\n",
      "Epoch 59/200\n",
      "64/64 [==============================] - 0s 3ms/step - loss: 0.3461 - recall: 0.4479 - val_loss: 0.3062 - val_recall: 0.5470\n",
      "Epoch 60/200\n"
     ]
    },
    {
     "name": "stdout",
     "output_type": "stream",
     "text": [
      "64/64 [==============================] - 0s 5ms/step - loss: 0.3450 - recall: 0.4552 - val_loss: 0.3037 - val_recall: 0.5193\n",
      "Epoch 61/200\n",
      "64/64 [==============================] - 0s 3ms/step - loss: 0.3463 - recall: 0.4510 - val_loss: 0.3037 - val_recall: 0.5028\n",
      "Epoch 62/200\n",
      "64/64 [==============================] - 0s 3ms/step - loss: 0.3449 - recall: 0.4570 - val_loss: 0.3124 - val_recall: 0.5856\n",
      "Epoch 63/200\n",
      "64/64 [==============================] - 0s 3ms/step - loss: 0.3443 - recall: 0.4498 - val_loss: 0.3048 - val_recall: 0.5414\n",
      "Epoch 64/200\n",
      "64/64 [==============================] - 0s 3ms/step - loss: 0.3447 - recall: 0.4516 - val_loss: 0.3056 - val_recall: 0.5746\n",
      "Epoch 65/200\n",
      "64/64 [==============================] - 0s 3ms/step - loss: 0.3438 - recall: 0.4552 - val_loss: 0.3043 - val_recall: 0.4917\n",
      "Epoch 66/200\n",
      "64/64 [==============================] - 0s 3ms/step - loss: 0.3446 - recall: 0.4540 - val_loss: 0.3115 - val_recall: 0.5967\n",
      "Epoch 67/200\n",
      "64/64 [==============================] - 0s 4ms/step - loss: 0.3447 - recall: 0.4600 - val_loss: 0.3023 - val_recall: 0.5028\n",
      "Epoch 68/200\n",
      "64/64 [==============================] - 0s 3ms/step - loss: 0.3438 - recall: 0.4546 - val_loss: 0.3034 - val_recall: 0.5414\n",
      "Epoch 69/200\n",
      "64/64 [==============================] - 0s 3ms/step - loss: 0.3442 - recall: 0.4516 - val_loss: 0.3056 - val_recall: 0.5746\n",
      "Epoch 70/200\n",
      "64/64 [==============================] - 0s 3ms/step - loss: 0.3433 - recall: 0.4582 - val_loss: 0.3016 - val_recall: 0.5138\n",
      "Epoch 71/200\n",
      "64/64 [==============================] - 0s 3ms/step - loss: 0.3436 - recall: 0.4498 - val_loss: 0.3023 - val_recall: 0.5083\n",
      "Epoch 72/200\n",
      "64/64 [==============================] - 0s 3ms/step - loss: 0.3434 - recall: 0.4546 - val_loss: 0.3019 - val_recall: 0.5138\n",
      "Epoch 73/200\n",
      "64/64 [==============================] - 0s 3ms/step - loss: 0.3429 - recall: 0.4516 - val_loss: 0.3006 - val_recall: 0.5249\n",
      "Epoch 74/200\n",
      "64/64 [==============================] - 0s 3ms/step - loss: 0.3426 - recall: 0.4582 - val_loss: 0.3060 - val_recall: 0.5470\n",
      "Epoch 75/200\n",
      "64/64 [==============================] - 0s 3ms/step - loss: 0.3431 - recall: 0.4504 - val_loss: 0.3017 - val_recall: 0.4807\n",
      "Epoch 76/200\n",
      "64/64 [==============================] - 0s 3ms/step - loss: 0.3422 - recall: 0.4564 - val_loss: 0.3014 - val_recall: 0.5028\n",
      "Epoch 77/200\n",
      "64/64 [==============================] - 0s 3ms/step - loss: 0.3417 - recall: 0.4558 - val_loss: 0.3030 - val_recall: 0.5193\n",
      "Epoch 78/200\n",
      "64/64 [==============================] - 0s 3ms/step - loss: 0.3429 - recall: 0.4607 - val_loss: 0.3050 - val_recall: 0.5414\n",
      "Epoch 79/200\n",
      "64/64 [==============================] - 0s 3ms/step - loss: 0.3423 - recall: 0.4516 - val_loss: 0.3046 - val_recall: 0.5580\n",
      "Epoch 80/200\n",
      "64/64 [==============================] - 0s 3ms/step - loss: 0.3425 - recall: 0.4613 - val_loss: 0.3025 - val_recall: 0.5359\n",
      "Epoch 81/200\n",
      "64/64 [==============================] - 0s 3ms/step - loss: 0.3427 - recall: 0.4600 - val_loss: 0.3030 - val_recall: 0.5249\n",
      "Epoch 82/200\n",
      "64/64 [==============================] - 0s 3ms/step - loss: 0.3418 - recall: 0.4485 - val_loss: 0.3011 - val_recall: 0.4972\n",
      "Epoch 83/200\n",
      "64/64 [==============================] - 0s 3ms/step - loss: 0.3414 - recall: 0.4534 - val_loss: 0.3006 - val_recall: 0.5138\n",
      "Epoch 84/200\n",
      "64/64 [==============================] - 0s 3ms/step - loss: 0.3415 - recall: 0.4570 - val_loss: 0.3019 - val_recall: 0.5414\n",
      "Epoch 85/200\n",
      "64/64 [==============================] - 0s 3ms/step - loss: 0.3415 - recall: 0.4516 - val_loss: 0.3009 - val_recall: 0.5304\n",
      "Epoch 86/200\n",
      "64/64 [==============================] - 0s 3ms/step - loss: 0.3409 - recall: 0.4540 - val_loss: 0.3010 - val_recall: 0.5304\n",
      "Epoch 87/200\n",
      "64/64 [==============================] - 0s 3ms/step - loss: 0.3409 - recall: 0.4613 - val_loss: 0.3012 - val_recall: 0.4917\n",
      "Epoch 88/200\n",
      "64/64 [==============================] - 0s 3ms/step - loss: 0.3408 - recall: 0.4485 - val_loss: 0.3011 - val_recall: 0.5138\n",
      "Epoch 89/200\n",
      "64/64 [==============================] - 0s 3ms/step - loss: 0.3407 - recall: 0.4522 - val_loss: 0.3031 - val_recall: 0.5414\n",
      "Epoch 90/200\n",
      "64/64 [==============================] - 0s 3ms/step - loss: 0.3411 - recall: 0.4492 - val_loss: 0.3032 - val_recall: 0.5304\n",
      "Epoch 91/200\n",
      "64/64 [==============================] - 0s 3ms/step - loss: 0.3407 - recall: 0.4613 - val_loss: 0.3043 - val_recall: 0.5580\n",
      "Epoch 92/200\n",
      "64/64 [==============================] - 0s 3ms/step - loss: 0.3399 - recall: 0.4546 - val_loss: 0.3057 - val_recall: 0.5580\n",
      "Epoch 93/200\n",
      "64/64 [==============================] - 0s 3ms/step - loss: 0.3401 - recall: 0.4528 - val_loss: 0.3006 - val_recall: 0.5138\n",
      "Epoch 94/200\n",
      "64/64 [==============================] - 0s 3ms/step - loss: 0.3413 - recall: 0.4564 - val_loss: 0.3044 - val_recall: 0.5359\n",
      "Epoch 95/200\n",
      "64/64 [==============================] - 0s 3ms/step - loss: 0.3400 - recall: 0.4498 - val_loss: 0.3041 - val_recall: 0.5470\n",
      "Epoch 96/200\n",
      "64/64 [==============================] - 0s 3ms/step - loss: 0.3400 - recall: 0.4613 - val_loss: 0.3030 - val_recall: 0.4862\n",
      "Epoch 97/200\n",
      "64/64 [==============================] - 0s 3ms/step - loss: 0.3411 - recall: 0.4546 - val_loss: 0.3037 - val_recall: 0.5304\n",
      "Epoch 98/200\n",
      "64/64 [==============================] - 0s 3ms/step - loss: 0.3404 - recall: 0.4570 - val_loss: 0.3009 - val_recall: 0.5083\n",
      "Epoch 99/200\n",
      "64/64 [==============================] - 0s 3ms/step - loss: 0.3402 - recall: 0.4558 - val_loss: 0.3041 - val_recall: 0.5912\n",
      "Epoch 100/200\n",
      "64/64 [==============================] - 0s 3ms/step - loss: 0.3392 - recall: 0.4510 - val_loss: 0.2994 - val_recall: 0.5193\n",
      "Epoch 101/200\n",
      "64/64 [==============================] - 0s 3ms/step - loss: 0.3390 - recall: 0.4588 - val_loss: 0.3016 - val_recall: 0.5138\n",
      "Epoch 102/200\n",
      "64/64 [==============================] - 0s 3ms/step - loss: 0.3409 - recall: 0.4467 - val_loss: 0.3004 - val_recall: 0.5304\n",
      "Epoch 103/200\n",
      "64/64 [==============================] - 0s 3ms/step - loss: 0.3390 - recall: 0.4625 - val_loss: 0.3024 - val_recall: 0.5304\n",
      "Epoch 104/200\n",
      "64/64 [==============================] - 0s 3ms/step - loss: 0.3390 - recall: 0.4516 - val_loss: 0.3123 - val_recall: 0.6298\n",
      "Epoch 105/200\n",
      "64/64 [==============================] - 1s 14ms/step - loss: 0.3395 - recall: 0.4697 - val_loss: 0.3000 - val_recall: 0.5249\n",
      "Epoch 106/200\n",
      "64/64 [==============================] - 2s 26ms/step - loss: 0.3395 - recall: 0.4528 - val_loss: 0.3006 - val_recall: 0.5138\n",
      "Epoch 107/200\n",
      "64/64 [==============================] - 1s 8ms/step - loss: 0.3394 - recall: 0.4522 - val_loss: 0.3023 - val_recall: 0.5525\n",
      "Epoch 108/200\n",
      "64/64 [==============================] - 1s 8ms/step - loss: 0.3383 - recall: 0.4534 - val_loss: 0.3008 - val_recall: 0.5470\n",
      "Epoch 109/200\n",
      "64/64 [==============================] - 0s 8ms/step - loss: 0.3390 - recall: 0.4637 - val_loss: 0.3013 - val_recall: 0.5359\n",
      "Epoch 110/200\n",
      "64/64 [==============================] - 1s 9ms/step - loss: 0.3386 - recall: 0.4588 - val_loss: 0.3014 - val_recall: 0.5304\n",
      "Epoch 111/200\n",
      "64/64 [==============================] - 0s 7ms/step - loss: 0.3401 - recall: 0.4613 - val_loss: 0.3044 - val_recall: 0.5801\n",
      "Epoch 112/200\n",
      "64/64 [==============================] - 0s 6ms/step - loss: 0.3385 - recall: 0.4558 - val_loss: 0.3029 - val_recall: 0.5414\n",
      "Epoch 113/200\n",
      "64/64 [==============================] - 0s 6ms/step - loss: 0.3382 - recall: 0.4534 - val_loss: 0.2996 - val_recall: 0.5470\n",
      "Epoch 114/200\n",
      "64/64 [==============================] - 0s 6ms/step - loss: 0.3383 - recall: 0.4667 - val_loss: 0.3008 - val_recall: 0.5249\n",
      "Epoch 115/200\n",
      "64/64 [==============================] - 0s 5ms/step - loss: 0.3374 - recall: 0.4667 - val_loss: 0.2997 - val_recall: 0.5138\n",
      "Epoch 115: early stopping\n"
     ]
    },
    {
     "data": {
      "text/plain": [
       "<keras.callbacks.History at 0x1daa8374df0>"
      ]
     },
     "execution_count": 42,
     "metadata": {},
     "output_type": "execute_result"
    }
   ],
   "source": [
    "model.fit(x = X_train, y = y_train, validation_split = 0.1, batch_size = 128, epochs = 200, verbose=1, callbacks=[early_stop])"
   ]
  },
  {
   "cell_type": "code",
   "execution_count": 43,
   "metadata": {},
   "outputs": [
    {
     "name": "stdout",
     "output_type": "stream",
     "text": [
      "Model: \"sequential_4\"\n",
      "_________________________________________________________________\n",
      " Layer (type)                Output Shape              Param #   \n",
      "=================================================================\n",
      " dense_12 (Dense)            (None, 20)                240       \n",
      "                                                                 \n",
      " dense_13 (Dense)            (None, 10)                210       \n",
      "                                                                 \n",
      " dense_14 (Dense)            (None, 1)                 11        \n",
      "                                                                 \n",
      "=================================================================\n",
      "Total params: 461\n",
      "Trainable params: 461\n",
      "Non-trainable params: 0\n",
      "_________________________________________________________________\n"
     ]
    }
   ],
   "source": [
    "model.summary()"
   ]
  },
  {
   "cell_type": "code",
   "execution_count": 44,
   "metadata": {},
   "outputs": [
    {
     "data": {
      "text/html": [
       "<div>\n",
       "<style scoped>\n",
       "    .dataframe tbody tr th:only-of-type {\n",
       "        vertical-align: middle;\n",
       "    }\n",
       "\n",
       "    .dataframe tbody tr th {\n",
       "        vertical-align: top;\n",
       "    }\n",
       "\n",
       "    .dataframe thead th {\n",
       "        text-align: right;\n",
       "    }\n",
       "</style>\n",
       "<table border=\"1\" class=\"dataframe\">\n",
       "  <thead>\n",
       "    <tr style=\"text-align: right;\">\n",
       "      <th></th>\n",
       "      <th>loss</th>\n",
       "      <th>recall</th>\n",
       "      <th>val_loss</th>\n",
       "      <th>val_recall</th>\n",
       "    </tr>\n",
       "  </thead>\n",
       "  <tbody>\n",
       "    <tr>\n",
       "      <th>0</th>\n",
       "      <td>0.517</td>\n",
       "      <td>0.000</td>\n",
       "      <td>0.490</td>\n",
       "      <td>0.000</td>\n",
       "    </tr>\n",
       "    <tr>\n",
       "      <th>1</th>\n",
       "      <td>0.489</td>\n",
       "      <td>0.000</td>\n",
       "      <td>0.474</td>\n",
       "      <td>0.000</td>\n",
       "    </tr>\n",
       "    <tr>\n",
       "      <th>2</th>\n",
       "      <td>0.477</td>\n",
       "      <td>0.000</td>\n",
       "      <td>0.461</td>\n",
       "      <td>0.000</td>\n",
       "    </tr>\n",
       "    <tr>\n",
       "      <th>3</th>\n",
       "      <td>0.467</td>\n",
       "      <td>0.000</td>\n",
       "      <td>0.450</td>\n",
       "      <td>0.000</td>\n",
       "    </tr>\n",
       "    <tr>\n",
       "      <th>4</th>\n",
       "      <td>0.459</td>\n",
       "      <td>0.000</td>\n",
       "      <td>0.441</td>\n",
       "      <td>0.006</td>\n",
       "    </tr>\n",
       "  </tbody>\n",
       "</table>\n",
       "</div>"
      ],
      "text/plain": [
       "   loss  recall  val_loss  val_recall\n",
       "0 0.517   0.000     0.490       0.000\n",
       "1 0.489   0.000     0.474       0.000\n",
       "2 0.477   0.000     0.461       0.000\n",
       "3 0.467   0.000     0.450       0.000\n",
       "4 0.459   0.000     0.441       0.006"
      ]
     },
     "execution_count": 44,
     "metadata": {},
     "output_type": "execute_result"
    }
   ],
   "source": [
    "loss_df = pd.DataFrame(model.history.history)\n",
    "loss_df.head()"
   ]
  },
  {
   "cell_type": "code",
   "execution_count": 45,
   "metadata": {},
   "outputs": [
    {
     "data": {
      "image/png": "[encoded data removed]",
      "text/plain": [
       "<Figure size 720x432 with 1 Axes>"
      ]
     },
     "metadata": {},
     "output_type": "display_data"
    }
   ],
   "source": [
    "loss_df.plot();"
   ]
  },
  {
   "cell_type": "code",
   "execution_count": null,
   "metadata": {},
   "outputs": [],
   "source": []
  },
  {
   "cell_type": "markdown",
   "metadata": {},
   "source": [
    "#### Evaluate"
   ]
  },
  {
   "cell_type": "code",
   "execution_count": 48,
   "metadata": {},
   "outputs": [
    {
     "name": "stdout",
     "output_type": "stream",
     "text": [
      "[[767  29]\n",
      " [112  92]]\n",
      "              precision    recall  f1-score   support\n",
      "\n",
      "           0       0.87      0.96      0.92       796\n",
      "           1       0.76      0.45      0.57       204\n",
      "\n",
      "    accuracy                           0.86      1000\n",
      "   macro avg       0.82      0.71      0.74      1000\n",
      "weighted avg       0.85      0.86      0.84      1000\n",
      "\n"
     ]
    }
   ],
   "source": [
    "y_pred = (model.predict(X_test) > 0.5).astype(\"int32\")\n",
    "\n",
    "print(confusion_matrix(y_test, y_pred))\n",
    "print(classification_report(y_test, y_pred))"
   ]
  },
  {
   "cell_type": "code",
   "execution_count": null,
   "metadata": {},
   "outputs": [],
   "source": []
  },
  {
   "cell_type": "markdown",
   "metadata": {},
   "source": [
    "### with class_weigth\n",
    "\n",
    "Investigate how the \"class_weight\" hyper-parameter is used in a Neural Network."
   ]
  },
  {
   "cell_type": "code",
   "execution_count": 66,
   "metadata": {},
   "outputs": [],
   "source": [
    "model = Sequential()\n",
    "\n",
    "tf.random.set_seed(seed)\n",
    "\n",
    "model.add(Dense(20, activation=\"relu\"))\n",
    "model.add(Dense(10, activation=\"relu\"))\n",
    "model.add(Dense(1, activation=\"sigmoid\"))\n",
    "\n",
    "opt = Adam(lr=0.001)\n",
    "model.compile(optimizer=opt, loss=\"binary_crossentropy\", metrics=[\"Recall\"])"
   ]
  },
  {
   "cell_type": "code",
   "execution_count": 67,
   "metadata": {},
   "outputs": [
    {
     "data": {
      "text/plain": [
       "{0: 0.6278777731268314, 1: 2.454991816693944}"
      ]
     },
     "execution_count": 67,
     "metadata": {},
     "output_type": "execute_result"
    }
   ],
   "source": [
    "from sklearn.utils import class_weight\n",
    "\n",
    "class_weights = class_weight.compute_class_weight('balanced',\n",
    "                                                  classes=np.unique(y_train),\n",
    "                                                  y=y_train)\n",
    "\n",
    "class_weights = {0: class_weights[0], 1: class_weights[1]}\n",
    "class_weights"
   ]
  },
  {
   "cell_type": "code",
   "execution_count": 68,
   "metadata": {},
   "outputs": [
    {
     "name": "stdout",
     "output_type": "stream",
     "text": [
      "Epoch 1/200\n",
      "64/64 [==============================] - 5s 27ms/step - loss: 0.7075 - recall: 0.0581 - val_loss: 0.6524 - val_recall: 0.2265\n",
      "Epoch 2/200\n",
      "64/64 [==============================] - 1s 10ms/step - loss: 0.6806 - recall: 0.3214 - val_loss: 0.6392 - val_recall: 0.5138\n",
      "Epoch 3/200\n",
      "64/64 [==============================] - 1s 10ms/step - loss: 0.6658 - recall: 0.5442 - val_loss: 0.6087 - val_recall: 0.5746\n",
      "Epoch 4/200\n",
      "64/64 [==============================] - 1s 10ms/step - loss: 0.6468 - recall: 0.6162 - val_loss: 0.5764 - val_recall: 0.5912\n",
      "Epoch 5/200\n",
      "64/64 [==============================] - 1s 10ms/step - loss: 0.6289 - recall: 0.6489 - val_loss: 0.6232 - val_recall: 0.7569\n",
      "Epoch 6/200\n",
      "64/64 [==============================] - 1s 10ms/step - loss: 0.6158 - recall: 0.6846 - val_loss: 0.5655 - val_recall: 0.6519\n",
      "Epoch 7/200\n",
      "64/64 [==============================] - 1s 9ms/step - loss: 0.6069 - recall: 0.6840 - val_loss: 0.6120 - val_recall: 0.7735\n",
      "Epoch 8/200\n",
      "64/64 [==============================] - 1s 10ms/step - loss: 0.5971 - recall: 0.6949 - val_loss: 0.5809 - val_recall: 0.7403\n",
      "Epoch 9/200\n",
      "64/64 [==============================] - 1s 9ms/step - loss: 0.5890 - recall: 0.6955 - val_loss: 0.5920 - val_recall: 0.7680\n",
      "Epoch 10/200\n",
      "64/64 [==============================] - 1s 10ms/step - loss: 0.5822 - recall: 0.7113 - val_loss: 0.5618 - val_recall: 0.7238\n",
      "Epoch 11/200\n",
      "64/64 [==============================] - 1s 10ms/step - loss: 0.5767 - recall: 0.6883 - val_loss: 0.5589 - val_recall: 0.7238\n",
      "Epoch 12/200\n",
      "64/64 [==============================] - 1s 9ms/step - loss: 0.5707 - recall: 0.7270 - val_loss: 0.5537 - val_recall: 0.7348\n",
      "Epoch 13/200\n",
      "64/64 [==============================] - 1s 10ms/step - loss: 0.5653 - recall: 0.7058 - val_loss: 0.5997 - val_recall: 0.7845\n",
      "Epoch 14/200\n",
      "64/64 [==============================] - 1s 11ms/step - loss: 0.5618 - recall: 0.7143 - val_loss: 0.5222 - val_recall: 0.7293\n",
      "Epoch 15/200\n",
      "64/64 [==============================] - 1s 10ms/step - loss: 0.5561 - recall: 0.7161 - val_loss: 0.5194 - val_recall: 0.7348\n",
      "Epoch 16/200\n",
      "64/64 [==============================] - 1s 9ms/step - loss: 0.5526 - recall: 0.7173 - val_loss: 0.5232 - val_recall: 0.7459\n",
      "Epoch 17/200\n",
      "64/64 [==============================] - 1s 9ms/step - loss: 0.5456 - recall: 0.7222 - val_loss: 0.4841 - val_recall: 0.7238\n",
      "Epoch 18/200\n",
      "64/64 [==============================] - 1s 9ms/step - loss: 0.5394 - recall: 0.7167 - val_loss: 0.4994 - val_recall: 0.7459\n",
      "Epoch 19/200\n",
      "64/64 [==============================] - 1s 10ms/step - loss: 0.5335 - recall: 0.7215 - val_loss: 0.5165 - val_recall: 0.7735\n",
      "Epoch 20/200\n",
      "64/64 [==============================] - 1s 10ms/step - loss: 0.5265 - recall: 0.7367 - val_loss: 0.4833 - val_recall: 0.7624\n",
      "Epoch 21/200\n",
      "64/64 [==============================] - 1s 9ms/step - loss: 0.5203 - recall: 0.7252 - val_loss: 0.5138 - val_recall: 0.7845\n",
      "Epoch 22/200\n",
      "64/64 [==============================] - 1s 9ms/step - loss: 0.5153 - recall: 0.7409 - val_loss: 0.4760 - val_recall: 0.7735\n",
      "Epoch 23/200\n",
      "64/64 [==============================] - 1s 10ms/step - loss: 0.5114 - recall: 0.7415 - val_loss: 0.4759 - val_recall: 0.7735\n",
      "Epoch 24/200\n",
      "64/64 [==============================] - 1s 10ms/step - loss: 0.5080 - recall: 0.7324 - val_loss: 0.4717 - val_recall: 0.7956\n",
      "Epoch 25/200\n",
      "64/64 [==============================] - 1s 9ms/step - loss: 0.5028 - recall: 0.7439 - val_loss: 0.4919 - val_recall: 0.8177\n",
      "Epoch 26/200\n",
      "64/64 [==============================] - 1s 10ms/step - loss: 0.5010 - recall: 0.7427 - val_loss: 0.4341 - val_recall: 0.7680\n",
      "Epoch 27/200\n",
      "64/64 [==============================] - 1s 10ms/step - loss: 0.4982 - recall: 0.7452 - val_loss: 0.4749 - val_recall: 0.8177\n",
      "Epoch 28/200\n",
      "64/64 [==============================] - 1s 9ms/step - loss: 0.4978 - recall: 0.7427 - val_loss: 0.4789 - val_recall: 0.8122\n",
      "Epoch 29/200\n",
      "64/64 [==============================] - 1s 12ms/step - loss: 0.4941 - recall: 0.7458 - val_loss: 0.4814 - val_recall: 0.8343\n",
      "Epoch 30/200\n",
      "64/64 [==============================] - 1s 10ms/step - loss: 0.4926 - recall: 0.7548 - val_loss: 0.5125 - val_recall: 0.8398\n",
      "Epoch 31/200\n",
      "64/64 [==============================] - 1s 10ms/step - loss: 0.4917 - recall: 0.7561 - val_loss: 0.4762 - val_recall: 0.8232\n",
      "Epoch 32/200\n",
      "64/64 [==============================] - 1s 10ms/step - loss: 0.4898 - recall: 0.7470 - val_loss: 0.4317 - val_recall: 0.8066\n",
      "Epoch 33/200\n",
      "64/64 [==============================] - 1s 9ms/step - loss: 0.4879 - recall: 0.7609 - val_loss: 0.4484 - val_recall: 0.8122\n",
      "Epoch 34/200\n",
      "64/64 [==============================] - 1s 9ms/step - loss: 0.4871 - recall: 0.7470 - val_loss: 0.4491 - val_recall: 0.8177\n",
      "Epoch 35/200\n",
      "64/64 [==============================] - 1s 9ms/step - loss: 0.4867 - recall: 0.7567 - val_loss: 0.4833 - val_recall: 0.8287\n",
      "Epoch 36/200\n",
      "64/64 [==============================] - 1s 10ms/step - loss: 0.4854 - recall: 0.7548 - val_loss: 0.4254 - val_recall: 0.8011\n",
      "Epoch 37/200\n",
      "64/64 [==============================] - 1s 9ms/step - loss: 0.4871 - recall: 0.7494 - val_loss: 0.4397 - val_recall: 0.8066\n",
      "Epoch 38/200\n",
      "64/64 [==============================] - 1s 9ms/step - loss: 0.4847 - recall: 0.7579 - val_loss: 0.4499 - val_recall: 0.8287\n",
      "Epoch 39/200\n",
      "64/64 [==============================] - 1s 9ms/step - loss: 0.4832 - recall: 0.7585 - val_loss: 0.4355 - val_recall: 0.8066\n",
      "Epoch 40/200\n",
      "64/64 [==============================] - 1s 11ms/step - loss: 0.4831 - recall: 0.7645 - val_loss: 0.4273 - val_recall: 0.7956\n",
      "Epoch 41/200\n",
      "64/64 [==============================] - 1s 12ms/step - loss: 0.4818 - recall: 0.7482 - val_loss: 0.4546 - val_recall: 0.8232\n",
      "Epoch 42/200\n",
      "64/64 [==============================] - 1s 11ms/step - loss: 0.4823 - recall: 0.7591 - val_loss: 0.4079 - val_recall: 0.7901\n",
      "Epoch 43/200\n",
      "64/64 [==============================] - 1s 10ms/step - loss: 0.4810 - recall: 0.7561 - val_loss: 0.4421 - val_recall: 0.8122\n",
      "Epoch 44/200\n",
      "64/64 [==============================] - 1s 8ms/step - loss: 0.4810 - recall: 0.7597 - val_loss: 0.4319 - val_recall: 0.8011\n",
      "Epoch 45/200\n",
      "64/64 [==============================] - 0s 6ms/step - loss: 0.4793 - recall: 0.7603 - val_loss: 0.4488 - val_recall: 0.8177\n",
      "Epoch 46/200\n",
      "64/64 [==============================] - 0s 7ms/step - loss: 0.4791 - recall: 0.7579 - val_loss: 0.4331 - val_recall: 0.8011\n",
      "Epoch 47/200\n",
      "64/64 [==============================] - 0s 7ms/step - loss: 0.4787 - recall: 0.7615 - val_loss: 0.4455 - val_recall: 0.8232\n",
      "Epoch 48/200\n",
      "64/64 [==============================] - 0s 6ms/step - loss: 0.4783 - recall: 0.7621 - val_loss: 0.4398 - val_recall: 0.8287\n",
      "Epoch 49/200\n",
      "64/64 [==============================] - 0s 6ms/step - loss: 0.4775 - recall: 0.7639 - val_loss: 0.4058 - val_recall: 0.7845\n",
      "Epoch 50/200\n",
      "64/64 [==============================] - 0s 7ms/step - loss: 0.4775 - recall: 0.7579 - val_loss: 0.4347 - val_recall: 0.8122\n",
      "Epoch 51/200\n",
      "64/64 [==============================] - 0s 5ms/step - loss: 0.4761 - recall: 0.7676 - val_loss: 0.4247 - val_recall: 0.8066\n",
      "Epoch 52/200\n",
      "64/64 [==============================] - 0s 5ms/step - loss: 0.4771 - recall: 0.7470 - val_loss: 0.4826 - val_recall: 0.8398\n",
      "Epoch 53/200\n",
      "64/64 [==============================] - 0s 6ms/step - loss: 0.4770 - recall: 0.7633 - val_loss: 0.3961 - val_recall: 0.7901\n",
      "Epoch 54/200\n",
      "64/64 [==============================] - 0s 5ms/step - loss: 0.4772 - recall: 0.7609 - val_loss: 0.4044 - val_recall: 0.7901\n",
      "Epoch 55/200\n",
      "64/64 [==============================] - 0s 5ms/step - loss: 0.4758 - recall: 0.7657 - val_loss: 0.4295 - val_recall: 0.8177\n",
      "Epoch 56/200\n",
      "64/64 [==============================] - 0s 6ms/step - loss: 0.4751 - recall: 0.7669 - val_loss: 0.4659 - val_recall: 0.8287\n",
      "Epoch 57/200\n",
      "64/64 [==============================] - 0s 6ms/step - loss: 0.4748 - recall: 0.7536 - val_loss: 0.4618 - val_recall: 0.8287\n",
      "Epoch 58/200\n",
      "64/64 [==============================] - 0s 6ms/step - loss: 0.4738 - recall: 0.7627 - val_loss: 0.4213 - val_recall: 0.8066\n",
      "Epoch 59/200\n",
      "64/64 [==============================] - 0s 5ms/step - loss: 0.4742 - recall: 0.7548 - val_loss: 0.4526 - val_recall: 0.8287\n",
      "Epoch 60/200\n"
     ]
    },
    {
     "name": "stdout",
     "output_type": "stream",
     "text": [
      "64/64 [==============================] - 0s 5ms/step - loss: 0.4732 - recall: 0.7603 - val_loss: 0.4297 - val_recall: 0.8177\n",
      "Epoch 61/200\n",
      "64/64 [==============================] - 0s 4ms/step - loss: 0.4745 - recall: 0.7688 - val_loss: 0.4152 - val_recall: 0.8122\n",
      "Epoch 62/200\n",
      "64/64 [==============================] - 0s 4ms/step - loss: 0.4719 - recall: 0.7615 - val_loss: 0.4804 - val_recall: 0.8343\n",
      "Epoch 63/200\n",
      "64/64 [==============================] - 0s 4ms/step - loss: 0.4717 - recall: 0.7609 - val_loss: 0.4453 - val_recall: 0.8287\n",
      "Epoch 64/200\n",
      "64/64 [==============================] - 0s 4ms/step - loss: 0.4727 - recall: 0.7603 - val_loss: 0.4586 - val_recall: 0.8287\n",
      "Epoch 65/200\n",
      "64/64 [==============================] - 0s 4ms/step - loss: 0.4706 - recall: 0.7657 - val_loss: 0.4021 - val_recall: 0.7845\n",
      "Epoch 66/200\n",
      "64/64 [==============================] - 0s 4ms/step - loss: 0.4730 - recall: 0.7573 - val_loss: 0.4701 - val_recall: 0.8343\n",
      "Epoch 67/200\n",
      "64/64 [==============================] - 0s 5ms/step - loss: 0.4718 - recall: 0.7700 - val_loss: 0.4023 - val_recall: 0.8066\n",
      "Epoch 68/200\n",
      "64/64 [==============================] - 0s 4ms/step - loss: 0.4707 - recall: 0.7609 - val_loss: 0.4367 - val_recall: 0.8287\n",
      "Epoch 68: early stopping\n"
     ]
    },
    {
     "data": {
      "text/plain": [
       "<keras.callbacks.History at 0x1daa837a970>"
      ]
     },
     "execution_count": 68,
     "metadata": {},
     "output_type": "execute_result"
    }
   ],
   "source": [
    "model.fit(x=X_train, y=y_train, validation_split=.1, batch_size=128, epochs=200, verbose=1, callbacks=[early_stop], class_weight=class_weights)"
   ]
  },
  {
   "cell_type": "code",
   "execution_count": 69,
   "metadata": {},
   "outputs": [
    {
     "data": {
      "image/png": "[encoded data removed]",
      "text/plain": [
       "<Figure size 720x432 with 1 Axes>"
      ]
     },
     "metadata": {},
     "output_type": "display_data"
    }
   ],
   "source": [
    "loss_df = pd.DataFrame(model.history.history)\n",
    "loss_df.plot();"
   ]
  },
  {
   "cell_type": "code",
   "execution_count": null,
   "metadata": {},
   "outputs": [],
   "source": []
  },
  {
   "cell_type": "markdown",
   "metadata": {},
   "source": [
    "#### Evaluate"
   ]
  },
  {
   "cell_type": "code",
   "execution_count": 70,
   "metadata": {},
   "outputs": [
    {
     "name": "stdout",
     "output_type": "stream",
     "text": [
      "[[594 202]\n",
      " [ 50 154]]\n",
      "              precision    recall  f1-score   support\n",
      "\n",
      "           0       0.92      0.75      0.82       796\n",
      "           1       0.43      0.75      0.55       204\n",
      "\n",
      "    accuracy                           0.75      1000\n",
      "   macro avg       0.68      0.75      0.69      1000\n",
      "weighted avg       0.82      0.75      0.77      1000\n",
      "\n"
     ]
    }
   ],
   "source": [
    "y_pred = (model.predict(X_test) > 0.5).astype(\"int32\")\n",
    "print(confusion_matrix(y_test, y_pred))\n",
    "print(classification_report(y_test, y_pred))"
   ]
  },
  {
   "cell_type": "code",
   "execution_count": null,
   "metadata": {},
   "outputs": [],
   "source": []
  },
  {
   "cell_type": "code",
   "execution_count": null,
   "metadata": {},
   "outputs": [],
   "source": []
  },
  {
   "cell_type": "code",
   "execution_count": null,
   "metadata": {},
   "outputs": [],
   "source": []
  },
  {
   "cell_type": "code",
   "execution_count": null,
   "metadata": {},
   "outputs": [],
   "source": []
  },
  {
   "cell_type": "markdown",
   "metadata": {},
   "source": [
    "## GridSearchCV"
   ]
  },
  {
   "cell_type": "code",
   "execution_count": 71,
   "metadata": {},
   "outputs": [],
   "source": [
    "from tensorflow.keras.wrappers.scikit_learn import KerasClassifier\n",
    "from tensorflow.keras.optimizers import Adadelta, RMSprop, Nadam, Adam, SGD"
   ]
  },
  {
   "cell_type": "code",
   "execution_count": 72,
   "metadata": {},
   "outputs": [],
   "source": [
    "def build_classifier(optimizer,learn_rate):\n",
    "    classifier = Sequential()\n",
    "    classifier.add(Dense(units=20, activation='relu'))\n",
    "    classifier.add(Dense(units=10, activation='relu'))\n",
    "    classifier.add(Dense(units=1, activation='sigmoid'))\n",
    "    classifier.compile(optimizer=optimizer(learn_rate),\n",
    "                       loss='binary_crossentropy',\n",
    "                       metrics=['Recall'])\n",
    "    return classifier"
   ]
  },
  {
   "cell_type": "code",
   "execution_count": 73,
   "metadata": {},
   "outputs": [
    {
     "data": {
      "text/plain": [
       "{0: 0.6278777731268314, 1: 2.454991816693944}"
      ]
     },
     "execution_count": 73,
     "metadata": {},
     "output_type": "execute_result"
    }
   ],
   "source": [
    "class_weights"
   ]
  },
  {
   "cell_type": "code",
   "execution_count": 74,
   "metadata": {},
   "outputs": [],
   "source": [
    "tf.random.set_seed(seed)\n",
    "\n",
    "classifier = KerasClassifier(build_fn=build_classifier, epochs=200)\n",
    "parameters = {\n",
    "    'batch_size': [128, 256],\n",
    "    'optimizer': [Adam, RMSprop, Nadam, Adadelta, SGD],\n",
    "    'learn_rate': [0.001, 0.003, 0.005]}\n"
   ]
  },
  {
   "cell_type": "code",
   "execution_count": 75,
   "metadata": {},
   "outputs": [
    {
     "name": "stdout",
     "output_type": "stream",
     "text": [
      "Epoch 1/200\n",
      "71/71 [==============================] - 5s 9ms/step - loss: 0.6809 - recall: 0.3857\n",
      "Epoch 2/200\n",
      "71/71 [==============================] - 1s 8ms/step - loss: 0.6281 - recall: 0.6601\n",
      "Epoch 3/200\n",
      "71/71 [==============================] - 1s 8ms/step - loss: 0.5975 - recall: 0.6923\n",
      "Epoch 4/200\n",
      "71/71 [==============================] - 1s 8ms/step - loss: 0.5763 - recall: 0.7005\n",
      "Epoch 5/200\n",
      "71/71 [==============================] - 1s 8ms/step - loss: 0.5598 - recall: 0.7169\n",
      "Epoch 6/200\n",
      "71/71 [==============================] - 1s 8ms/step - loss: 0.5445 - recall: 0.7229\n",
      "Epoch 7/200\n",
      "71/71 [==============================] - 1s 8ms/step - loss: 0.5232 - recall: 0.7349\n",
      "Epoch 8/200\n",
      "71/71 [==============================] - 1s 8ms/step - loss: 0.5088 - recall: 0.7398\n",
      "Epoch 9/200\n",
      "71/71 [==============================] - 1s 8ms/step - loss: 0.4979 - recall: 0.7436\n",
      "Epoch 10/200\n",
      "71/71 [==============================] - 1s 8ms/step - loss: 0.4904 - recall: 0.7469\n",
      "Epoch 11/200\n",
      "71/71 [==============================] - 1s 8ms/step - loss: 0.4856 - recall: 0.7469\n",
      "Epoch 12/200\n",
      "71/71 [==============================] - 1s 8ms/step - loss: 0.4849 - recall: 0.7496\n",
      "Epoch 13/200\n",
      "71/71 [==============================] - 1s 8ms/step - loss: 0.4836 - recall: 0.7501\n",
      "Epoch 14/200\n",
      "71/71 [==============================] - 1s 9ms/step - loss: 0.4805 - recall: 0.7523\n",
      "Epoch 15/200\n",
      "71/71 [==============================] - 1s 9ms/step - loss: 0.4791 - recall: 0.7490\n",
      "Epoch 16/200\n",
      "71/71 [==============================] - 1s 8ms/step - loss: 0.4773 - recall: 0.7523\n",
      "Epoch 17/200\n",
      "71/71 [==============================] - 1s 8ms/step - loss: 0.4754 - recall: 0.7518\n",
      "Epoch 18/200\n",
      "71/71 [==============================] - 1s 8ms/step - loss: 0.4756 - recall: 0.7561\n",
      "Epoch 19/200\n",
      "71/71 [==============================] - 1s 8ms/step - loss: 0.4742 - recall: 0.7490\n",
      "Epoch 20/200\n",
      "71/71 [==============================] - 1s 8ms/step - loss: 0.4736 - recall: 0.7534\n",
      "Epoch 21/200\n",
      "71/71 [==============================] - 1s 8ms/step - loss: 0.4726 - recall: 0.7594\n",
      "Epoch 22/200\n",
      "71/71 [==============================] - 1s 8ms/step - loss: 0.4726 - recall: 0.7578\n",
      "Epoch 23/200\n",
      "71/71 [==============================] - 0s 7ms/step - loss: 0.4707 - recall: 0.7501\n",
      "Epoch 24/200\n",
      "71/71 [==============================] - 0s 6ms/step - loss: 0.4700 - recall: 0.7545\n",
      "Epoch 25/200\n",
      "71/71 [==============================] - 0s 6ms/step - loss: 0.4691 - recall: 0.7561\n",
      "Epoch 26/200\n",
      "71/71 [==============================] - 0s 6ms/step - loss: 0.4678 - recall: 0.7556\n",
      "Epoch 27/200\n",
      "71/71 [==============================] - 0s 5ms/step - loss: 0.4667 - recall: 0.7627\n",
      "Epoch 28/200\n",
      "71/71 [==============================] - 0s 6ms/step - loss: 0.4682 - recall: 0.7567\n",
      "Epoch 29/200\n",
      "71/71 [==============================] - 0s 4ms/step - loss: 0.4675 - recall: 0.7561\n",
      "Epoch 30/200\n",
      "71/71 [==============================] - 0s 5ms/step - loss: 0.4657 - recall: 0.7583\n",
      "Epoch 31/200\n",
      "71/71 [==============================] - 0s 5ms/step - loss: 0.4645 - recall: 0.7632\n",
      "Epoch 32/200\n",
      "71/71 [==============================] - 0s 5ms/step - loss: 0.4637 - recall: 0.7687\n",
      "Epoch 33/200\n",
      "71/71 [==============================] - 0s 6ms/step - loss: 0.4633 - recall: 0.7632\n",
      "Epoch 34/200\n",
      "71/71 [==============================] - 0s 4ms/step - loss: 0.4632 - recall: 0.7632\n",
      "Epoch 35/200\n",
      "71/71 [==============================] - 0s 4ms/step - loss: 0.4630 - recall: 0.7627\n",
      "Epoch 36/200\n",
      "71/71 [==============================] - 0s 4ms/step - loss: 0.4612 - recall: 0.7600\n",
      "Epoch 37/200\n",
      "71/71 [==============================] - 0s 4ms/step - loss: 0.4612 - recall: 0.7627\n",
      "Epoch 38/200\n",
      "71/71 [==============================] - 0s 4ms/step - loss: 0.4600 - recall: 0.7605\n",
      "Epoch 39/200\n",
      "71/71 [==============================] - 0s 3ms/step - loss: 0.4591 - recall: 0.7660\n",
      "Epoch 40/200\n",
      "71/71 [==============================] - 0s 3ms/step - loss: 0.4594 - recall: 0.7518\n",
      "Epoch 41/200\n",
      "71/71 [==============================] - 0s 4ms/step - loss: 0.4600 - recall: 0.7594\n",
      "Epoch 42/200\n",
      "71/71 [==============================] - 0s 4ms/step - loss: 0.4595 - recall: 0.7643\n",
      "Epoch 43/200\n",
      "71/71 [==============================] - 0s 3ms/step - loss: 0.4592 - recall: 0.7583\n",
      "Epoch 44/200\n",
      "71/71 [==============================] - 0s 3ms/step - loss: 0.4587 - recall: 0.7643\n",
      "Epoch 45/200\n",
      "71/71 [==============================] - 0s 4ms/step - loss: 0.4574 - recall: 0.7616\n",
      "Epoch 46/200\n",
      "71/71 [==============================] - 0s 4ms/step - loss: 0.4569 - recall: 0.7638\n",
      "Epoch 47/200\n",
      "71/71 [==============================] - 0s 3ms/step - loss: 0.4560 - recall: 0.7643\n",
      "Epoch 48/200\n",
      "71/71 [==============================] - 0s 4ms/step - loss: 0.4568 - recall: 0.7589\n",
      "Epoch 49/200\n",
      "71/71 [==============================] - 0s 4ms/step - loss: 0.4554 - recall: 0.7583\n",
      "Epoch 50/200\n",
      "71/71 [==============================] - 0s 3ms/step - loss: 0.4546 - recall: 0.7665\n",
      "Epoch 51/200\n",
      "71/71 [==============================] - 0s 3ms/step - loss: 0.4553 - recall: 0.7589\n",
      "Epoch 52/200\n",
      "71/71 [==============================] - 0s 3ms/step - loss: 0.4562 - recall: 0.7616\n",
      "Epoch 53/200\n",
      "71/71 [==============================] - 0s 4ms/step - loss: 0.4552 - recall: 0.7621\n",
      "Epoch 54/200\n",
      "71/71 [==============================] - 0s 3ms/step - loss: 0.4544 - recall: 0.7643\n",
      "Epoch 55/200\n",
      "71/71 [==============================] - 0s 4ms/step - loss: 0.4546 - recall: 0.7627\n",
      "Epoch 56/200\n",
      "71/71 [==============================] - 0s 3ms/step - loss: 0.4522 - recall: 0.7692\n",
      "Epoch 57/200\n",
      "71/71 [==============================] - 0s 4ms/step - loss: 0.4530 - recall: 0.7632\n",
      "Epoch 58/200\n",
      "71/71 [==============================] - 0s 3ms/step - loss: 0.4520 - recall: 0.7649\n",
      "Epoch 59/200\n",
      "71/71 [==============================] - 0s 3ms/step - loss: 0.4529 - recall: 0.7632\n",
      "Epoch 60/200\n",
      "71/71 [==============================] - 0s 3ms/step - loss: 0.4529 - recall: 0.7561\n",
      "Epoch 61/200\n",
      "71/71 [==============================] - 0s 3ms/step - loss: 0.4525 - recall: 0.7649\n",
      "Epoch 62/200\n",
      "71/71 [==============================] - 0s 3ms/step - loss: 0.4518 - recall: 0.7610\n",
      "Epoch 63/200\n",
      "71/71 [==============================] - 0s 3ms/step - loss: 0.4512 - recall: 0.7692\n",
      "Epoch 64/200\n",
      "71/71 [==============================] - 0s 3ms/step - loss: 0.4508 - recall: 0.7698\n",
      "Epoch 65/200\n",
      "71/71 [==============================] - 0s 3ms/step - loss: 0.4515 - recall: 0.7665\n",
      "Epoch 66/200\n",
      "71/71 [==============================] - 0s 5ms/step - loss: 0.4512 - recall: 0.7741\n",
      "Epoch 67/200\n",
      "71/71 [==============================] - 0s 3ms/step - loss: 0.4494 - recall: 0.7632\n",
      "Epoch 68/200\n",
      "71/71 [==============================] - 0s 3ms/step - loss: 0.4497 - recall: 0.7638\n",
      "Epoch 69/200\n",
      "71/71 [==============================] - 0s 3ms/step - loss: 0.4499 - recall: 0.7654\n",
      "Epoch 70/200\n",
      "71/71 [==============================] - 0s 3ms/step - loss: 0.4489 - recall: 0.7665\n",
      "Epoch 71/200\n",
      "71/71 [==============================] - 0s 3ms/step - loss: 0.4483 - recall: 0.7687\n",
      "Epoch 72/200\n",
      "71/71 [==============================] - 0s 3ms/step - loss: 0.4491 - recall: 0.7610\n",
      "Epoch 73/200\n",
      "71/71 [==============================] - 0s 4ms/step - loss: 0.4494 - recall: 0.7638\n",
      "Epoch 74/200\n",
      "71/71 [==============================] - 0s 4ms/step - loss: 0.4473 - recall: 0.7676\n",
      "Epoch 75/200\n",
      "71/71 [==============================] - 0s 4ms/step - loss: 0.4479 - recall: 0.7632\n",
      "Epoch 76/200\n",
      "71/71 [==============================] - 0s 3ms/step - loss: 0.4470 - recall: 0.7670\n",
      "Epoch 77/200\n",
      "71/71 [==============================] - 0s 3ms/step - loss: 0.4479 - recall: 0.7638\n",
      "Epoch 78/200\n",
      "71/71 [==============================] - 0s 3ms/step - loss: 0.4464 - recall: 0.7681\n",
      "Epoch 79/200\n",
      "71/71 [==============================] - 0s 4ms/step - loss: 0.4461 - recall: 0.7616\n",
      "Epoch 80/200\n",
      "71/71 [==============================] - 0s 3ms/step - loss: 0.4482 - recall: 0.7692\n",
      "Epoch 81/200\n",
      "71/71 [==============================] - 0s 3ms/step - loss: 0.4463 - recall: 0.7610\n",
      "Epoch 82/200\n",
      "71/71 [==============================] - 0s 4ms/step - loss: 0.4464 - recall: 0.7714\n",
      "Epoch 83/200\n",
      "71/71 [==============================] - 0s 3ms/step - loss: 0.4462 - recall: 0.7621\n",
      "Epoch 84/200\n"
     ]
    },
    {
     "name": "stdout",
     "output_type": "stream",
     "text": [
      "71/71 [==============================] - 0s 3ms/step - loss: 0.4451 - recall: 0.7643\n",
      "Epoch 85/200\n",
      "71/71 [==============================] - 0s 3ms/step - loss: 0.4459 - recall: 0.7676\n",
      "Epoch 86/200\n",
      "71/71 [==============================] - 0s 3ms/step - loss: 0.4459 - recall: 0.7660\n",
      "Epoch 87/200\n",
      "71/71 [==============================] - 0s 3ms/step - loss: 0.4456 - recall: 0.7676\n",
      "Epoch 88/200\n",
      "71/71 [==============================] - 0s 3ms/step - loss: 0.4455 - recall: 0.7660\n",
      "Epoch 89/200\n",
      "71/71 [==============================] - 0s 3ms/step - loss: 0.4444 - recall: 0.7692\n",
      "Epoch 90/200\n",
      "71/71 [==============================] - 0s 3ms/step - loss: 0.4449 - recall: 0.7698\n",
      "Epoch 91/200\n",
      "71/71 [==============================] - 0s 3ms/step - loss: 0.4449 - recall: 0.7670\n",
      "Epoch 92/200\n",
      "71/71 [==============================] - 0s 3ms/step - loss: 0.4429 - recall: 0.7736\n",
      "Epoch 93/200\n",
      "71/71 [==============================] - 0s 3ms/step - loss: 0.4445 - recall: 0.7703\n",
      "Epoch 94/200\n",
      "71/71 [==============================] - 0s 3ms/step - loss: 0.4451 - recall: 0.7643\n",
      "Epoch 95/200\n",
      "71/71 [==============================] - 0s 3ms/step - loss: 0.4448 - recall: 0.7649\n",
      "Epoch 96/200\n",
      "71/71 [==============================] - 0s 3ms/step - loss: 0.4432 - recall: 0.7627\n",
      "Epoch 97/200\n",
      "71/71 [==============================] - 0s 3ms/step - loss: 0.4435 - recall: 0.7692\n",
      "Epoch 98/200\n",
      "71/71 [==============================] - 0s 3ms/step - loss: 0.4432 - recall: 0.7654\n",
      "Epoch 99/200\n",
      "71/71 [==============================] - 0s 3ms/step - loss: 0.4441 - recall: 0.7627\n",
      "Epoch 100/200\n",
      "71/71 [==============================] - 0s 3ms/step - loss: 0.4427 - recall: 0.7660\n",
      "Epoch 101/200\n",
      "71/71 [==============================] - 0s 3ms/step - loss: 0.4427 - recall: 0.7692\n",
      "Epoch 102/200\n",
      "71/71 [==============================] - 0s 3ms/step - loss: 0.4430 - recall: 0.7774\n",
      "Epoch 103/200\n",
      "71/71 [==============================] - 1s 8ms/step - loss: 0.4430 - recall: 0.7714\n",
      "Epoch 104/200\n",
      "71/71 [==============================] - 1s 8ms/step - loss: 0.4419 - recall: 0.7703\n",
      "Epoch 105/200\n",
      "71/71 [==============================] - 1s 7ms/step - loss: 0.4427 - recall: 0.7703\n",
      "Epoch 106/200\n",
      "71/71 [==============================] - 1s 7ms/step - loss: 0.4420 - recall: 0.7714\n",
      "Epoch 107/200\n",
      "71/71 [==============================] - 1s 7ms/step - loss: 0.4418 - recall: 0.7709\n",
      "Epoch 108/200\n",
      "71/71 [==============================] - 0s 7ms/step - loss: 0.4415 - recall: 0.7692\n",
      "Epoch 109/200\n",
      "71/71 [==============================] - 1s 7ms/step - loss: 0.4412 - recall: 0.7649\n",
      "Epoch 110/200\n",
      "71/71 [==============================] - 1s 7ms/step - loss: 0.4411 - recall: 0.7654\n",
      "Epoch 111/200\n",
      "71/71 [==============================] - 1s 7ms/step - loss: 0.4406 - recall: 0.7654\n",
      "Epoch 112/200\n",
      "71/71 [==============================] - 1s 7ms/step - loss: 0.4415 - recall: 0.7632\n",
      "Epoch 113/200\n",
      "71/71 [==============================] - 1s 7ms/step - loss: 0.4406 - recall: 0.7687\n",
      "Epoch 114/200\n",
      "71/71 [==============================] - 1s 7ms/step - loss: 0.4407 - recall: 0.7714\n",
      "Epoch 115/200\n",
      "71/71 [==============================] - 0s 7ms/step - loss: 0.4417 - recall: 0.7692\n",
      "Epoch 116/200\n",
      "71/71 [==============================] - 1s 7ms/step - loss: 0.4405 - recall: 0.7720\n",
      "Epoch 117/200\n",
      "71/71 [==============================] - 1s 7ms/step - loss: 0.4395 - recall: 0.7709\n",
      "Epoch 118/200\n",
      "71/71 [==============================] - 1s 7ms/step - loss: 0.4413 - recall: 0.7741\n",
      "Epoch 119/200\n",
      "71/71 [==============================] - 0s 7ms/step - loss: 0.4409 - recall: 0.7654\n",
      "Epoch 120/200\n",
      "71/71 [==============================] - 1s 7ms/step - loss: 0.4402 - recall: 0.7660\n",
      "Epoch 121/200\n",
      "71/71 [==============================] - 1s 10ms/step - loss: 0.4389 - recall: 0.7812\n",
      "Epoch 122/200\n",
      "71/71 [==============================] - 1s 8ms/step - loss: 0.4414 - recall: 0.7660\n",
      "Epoch 123/200\n",
      "71/71 [==============================] - 1s 7ms/step - loss: 0.4394 - recall: 0.7736\n",
      "Epoch 124/200\n",
      "71/71 [==============================] - 0s 7ms/step - loss: 0.4400 - recall: 0.7681\n",
      "Epoch 125/200\n",
      "71/71 [==============================] - 1s 7ms/step - loss: 0.4397 - recall: 0.7720\n",
      "Epoch 126/200\n",
      "71/71 [==============================] - 1s 7ms/step - loss: 0.4393 - recall: 0.7720\n",
      "Epoch 127/200\n",
      "71/71 [==============================] - 1s 7ms/step - loss: 0.4386 - recall: 0.7763\n",
      "Epoch 128/200\n",
      "71/71 [==============================] - 0s 7ms/step - loss: 0.4386 - recall: 0.7692\n",
      "Epoch 129/200\n",
      "71/71 [==============================] - 1s 7ms/step - loss: 0.4389 - recall: 0.7665\n",
      "Epoch 130/200\n",
      "71/71 [==============================] - 1s 7ms/step - loss: 0.4384 - recall: 0.7736\n",
      "Epoch 131/200\n",
      "71/71 [==============================] - 1s 7ms/step - loss: 0.4381 - recall: 0.7709\n",
      "Epoch 132/200\n",
      "71/71 [==============================] - 1s 7ms/step - loss: 0.4370 - recall: 0.7785\n",
      "Epoch 133/200\n",
      "71/71 [==============================] - 1s 7ms/step - loss: 0.4388 - recall: 0.7714\n",
      "Epoch 134/200\n",
      "71/71 [==============================] - 1s 7ms/step - loss: 0.4381 - recall: 0.7698\n",
      "Epoch 135/200\n",
      "71/71 [==============================] - 1s 8ms/step - loss: 0.4390 - recall: 0.7714\n",
      "Epoch 136/200\n",
      "71/71 [==============================] - 1s 7ms/step - loss: 0.4382 - recall: 0.7747\n",
      "Epoch 137/200\n",
      "71/71 [==============================] - 1s 7ms/step - loss: 0.4369 - recall: 0.7752\n",
      "Epoch 138/200\n",
      "71/71 [==============================] - 1s 9ms/step - loss: 0.4371 - recall: 0.7829\n",
      "Epoch 139/200\n",
      "71/71 [==============================] - 0s 7ms/step - loss: 0.4365 - recall: 0.7758\n",
      "Epoch 140/200\n",
      "71/71 [==============================] - 0s 6ms/step - loss: 0.4361 - recall: 0.7714\n",
      "Epoch 141/200\n",
      "71/71 [==============================] - 0s 6ms/step - loss: 0.4369 - recall: 0.7698\n",
      "Epoch 142/200\n",
      "71/71 [==============================] - 0s 4ms/step - loss: 0.4360 - recall: 0.7774\n",
      "Epoch 143/200\n",
      "71/71 [==============================] - 0s 4ms/step - loss: 0.4371 - recall: 0.7747\n",
      "Epoch 144/200\n",
      "71/71 [==============================] - 0s 4ms/step - loss: 0.4369 - recall: 0.7780\n",
      "Epoch 145/200\n",
      "71/71 [==============================] - 0s 4ms/step - loss: 0.4360 - recall: 0.7818\n",
      "Epoch 146/200\n",
      "71/71 [==============================] - 0s 4ms/step - loss: 0.4349 - recall: 0.7670\n",
      "Epoch 147/200\n",
      "71/71 [==============================] - 0s 5ms/step - loss: 0.4380 - recall: 0.7763\n",
      "Epoch 148/200\n",
      "71/71 [==============================] - 0s 4ms/step - loss: 0.4350 - recall: 0.7763\n",
      "Epoch 149/200\n",
      "71/71 [==============================] - 0s 4ms/step - loss: 0.4345 - recall: 0.7785\n",
      "Epoch 150/200\n",
      "71/71 [==============================] - 0s 4ms/step - loss: 0.4354 - recall: 0.7709\n",
      "Epoch 151/200\n",
      "71/71 [==============================] - 0s 5ms/step - loss: 0.4351 - recall: 0.7720\n",
      "Epoch 152/200\n",
      "71/71 [==============================] - 0s 4ms/step - loss: 0.4352 - recall: 0.7785\n",
      "Epoch 153/200\n",
      "71/71 [==============================] - 0s 4ms/step - loss: 0.4359 - recall: 0.7698\n",
      "Epoch 154/200\n",
      "71/71 [==============================] - 0s 5ms/step - loss: 0.4366 - recall: 0.7801\n",
      "Epoch 155/200\n",
      "71/71 [==============================] - 0s 5ms/step - loss: 0.4344 - recall: 0.7758\n",
      "Epoch 156/200\n",
      "71/71 [==============================] - 0s 4ms/step - loss: 0.4337 - recall: 0.7872\n",
      "Epoch 157/200\n",
      "71/71 [==============================] - 0s 4ms/step - loss: 0.4349 - recall: 0.7747\n",
      "Epoch 158/200\n",
      "71/71 [==============================] - 0s 5ms/step - loss: 0.4347 - recall: 0.7730\n",
      "Epoch 159/200\n",
      "71/71 [==============================] - 0s 4ms/step - loss: 0.4357 - recall: 0.7796\n",
      "Epoch 160/200\n",
      "71/71 [==============================] - 0s 5ms/step - loss: 0.4334 - recall: 0.7791\n",
      "Epoch 161/200\n",
      "71/71 [==============================] - 0s 4ms/step - loss: 0.4338 - recall: 0.7785\n",
      "Epoch 162/200\n",
      "71/71 [==============================] - 0s 4ms/step - loss: 0.4339 - recall: 0.7774\n",
      "Epoch 163/200\n",
      "71/71 [==============================] - 0s 5ms/step - loss: 0.4335 - recall: 0.7758\n",
      "Epoch 164/200\n",
      "71/71 [==============================] - 0s 6ms/step - loss: 0.4326 - recall: 0.7780\n",
      "Epoch 165/200\n",
      "71/71 [==============================] - 0s 5ms/step - loss: 0.4321 - recall: 0.7720\n",
      "Epoch 166/200\n",
      "71/71 [==============================] - 0s 4ms/step - loss: 0.4344 - recall: 0.7769\n",
      "Epoch 167/200\n"
     ]
    },
    {
     "name": "stdout",
     "output_type": "stream",
     "text": [
      "71/71 [==============================] - 0s 4ms/step - loss: 0.4334 - recall: 0.7769\n",
      "Epoch 168/200\n",
      "71/71 [==============================] - 0s 4ms/step - loss: 0.4332 - recall: 0.7698\n",
      "Epoch 169/200\n",
      "71/71 [==============================] - 0s 4ms/step - loss: 0.4315 - recall: 0.7747\n",
      "Epoch 170/200\n",
      "71/71 [==============================] - 0s 4ms/step - loss: 0.4338 - recall: 0.7785\n",
      "Epoch 171/200\n",
      "71/71 [==============================] - 0s 4ms/step - loss: 0.4320 - recall: 0.7834\n",
      "Epoch 172/200\n",
      "71/71 [==============================] - 0s 4ms/step - loss: 0.4333 - recall: 0.7709\n",
      "Epoch 173/200\n",
      "71/71 [==============================] - 0s 4ms/step - loss: 0.4303 - recall: 0.7834\n",
      "Epoch 174/200\n",
      "71/71 [==============================] - 0s 4ms/step - loss: 0.4318 - recall: 0.7791\n",
      "Epoch 175/200\n",
      "71/71 [==============================] - 0s 4ms/step - loss: 0.4324 - recall: 0.7736\n",
      "Epoch 176/200\n",
      "71/71 [==============================] - 0s 4ms/step - loss: 0.4298 - recall: 0.7730\n",
      "Epoch 177/200\n",
      "71/71 [==============================] - 0s 4ms/step - loss: 0.4310 - recall: 0.7730\n",
      "Epoch 178/200\n",
      "71/71 [==============================] - 0s 4ms/step - loss: 0.4296 - recall: 0.7829\n",
      "Epoch 179/200\n",
      "71/71 [==============================] - 0s 4ms/step - loss: 0.4312 - recall: 0.7709\n",
      "Epoch 180/200\n",
      "71/71 [==============================] - 0s 4ms/step - loss: 0.4308 - recall: 0.7720\n",
      "Epoch 181/200\n",
      "71/71 [==============================] - 0s 4ms/step - loss: 0.4296 - recall: 0.7758\n",
      "Epoch 182/200\n",
      "71/71 [==============================] - 0s 4ms/step - loss: 0.4299 - recall: 0.7720\n",
      "Epoch 183/200\n",
      "71/71 [==============================] - 0s 4ms/step - loss: 0.4306 - recall: 0.7763\n",
      "Epoch 184/200\n",
      "71/71 [==============================] - 0s 4ms/step - loss: 0.4290 - recall: 0.7752\n",
      "Epoch 185/200\n",
      "71/71 [==============================] - 0s 5ms/step - loss: 0.4317 - recall: 0.7769\n",
      "Epoch 186/200\n",
      "71/71 [==============================] - 0s 4ms/step - loss: 0.4314 - recall: 0.7801\n",
      "Epoch 187/200\n",
      "71/71 [==============================] - 0s 4ms/step - loss: 0.4288 - recall: 0.7851\n",
      "Epoch 188/200\n",
      "71/71 [==============================] - 0s 4ms/step - loss: 0.4306 - recall: 0.7649\n",
      "Epoch 189/200\n",
      "71/71 [==============================] - 0s 4ms/step - loss: 0.4302 - recall: 0.7812\n",
      "Epoch 190/200\n",
      "71/71 [==============================] - 0s 4ms/step - loss: 0.4296 - recall: 0.7736\n",
      "Epoch 191/200\n",
      "71/71 [==============================] - 0s 4ms/step - loss: 0.4298 - recall: 0.7796\n",
      "Epoch 192/200\n",
      "71/71 [==============================] - 0s 4ms/step - loss: 0.4288 - recall: 0.7791\n",
      "Epoch 193/200\n",
      "71/71 [==============================] - 0s 5ms/step - loss: 0.4300 - recall: 0.7801\n",
      "Epoch 194/200\n",
      "71/71 [==============================] - 0s 4ms/step - loss: 0.4290 - recall: 0.7818\n",
      "Epoch 195/200\n",
      "71/71 [==============================] - 0s 4ms/step - loss: 0.4294 - recall: 0.7845\n",
      "Epoch 196/200\n",
      "71/71 [==============================] - 0s 4ms/step - loss: 0.4282 - recall: 0.7796\n",
      "Epoch 197/200\n",
      "71/71 [==============================] - 0s 4ms/step - loss: 0.4272 - recall: 0.7785\n",
      "Epoch 198/200\n",
      "71/71 [==============================] - 0s 3ms/step - loss: 0.4278 - recall: 0.7752\n",
      "Epoch 199/200\n",
      "71/71 [==============================] - 0s 3ms/step - loss: 0.4278 - recall: 0.7796\n",
      "Epoch 200/200\n",
      "71/71 [==============================] - 0s 3ms/step - loss: 0.4280 - recall: 0.7834\n"
     ]
    }
   ],
   "source": [
    "grid_model = GridSearchCV(estimator=classifier,\n",
    "                          param_grid=parameters,\n",
    "                          scoring='recall',\n",
    "                          cv=5,\n",
    "                          n_jobs=-1,\n",
    "                          verbose=0).fit(X_train,\n",
    "                                         y_train,\n",
    "                                         class_weight=class_weights)"
   ]
  },
  {
   "cell_type": "code",
   "execution_count": null,
   "metadata": {},
   "outputs": [],
   "source": []
  },
  {
   "cell_type": "code",
   "execution_count": null,
   "metadata": {},
   "outputs": [],
   "source": []
  },
  {
   "cell_type": "code",
   "execution_count": null,
   "metadata": {},
   "outputs": [],
   "source": []
  },
  {
   "cell_type": "markdown",
   "metadata": {},
   "source": [
    "#### Evaluate"
   ]
  },
  {
   "cell_type": "code",
   "execution_count": null,
   "metadata": {},
   "outputs": [],
   "source": []
  },
  {
   "cell_type": "markdown",
   "metadata": {},
   "source": [
    "## Final Model and Model Deployment"
   ]
  },
  {
   "cell_type": "code",
   "execution_count": 76,
   "metadata": {},
   "outputs": [],
   "source": [
    "import pickle\n",
    "\n",
    "pickle.dump(scaler, open(\"scaler_churn\", 'wb'))"
   ]
  },
  {
   "cell_type": "code",
   "execution_count": 77,
   "metadata": {},
   "outputs": [
    {
     "name": "stdout",
     "output_type": "stream",
     "text": [
      "Epoch 1/200\n",
      "36/36 [==============================] - 4s 34ms/step - loss: 0.6926 - recall: 0.3486 - val_loss: 0.6500 - val_recall: 0.5294\n",
      "Epoch 2/200\n",
      "36/36 [==============================] - 0s 10ms/step - loss: 0.6598 - recall: 0.5423 - val_loss: 0.6366 - val_recall: 0.6373\n",
      "Epoch 3/200\n",
      "36/36 [==============================] - 0s 10ms/step - loss: 0.6271 - recall: 0.6568 - val_loss: 0.6527 - val_recall: 0.7108\n",
      "Epoch 4/200\n",
      "36/36 [==============================] - 0s 10ms/step - loss: 0.6054 - recall: 0.6967 - val_loss: 0.6535 - val_recall: 0.7353\n",
      "Epoch 5/200\n",
      "36/36 [==============================] - 0s 10ms/step - loss: 0.5893 - recall: 0.7098 - val_loss: 0.5781 - val_recall: 0.6618\n",
      "Epoch 6/200\n",
      "36/36 [==============================] - 0s 11ms/step - loss: 0.5755 - recall: 0.6939 - val_loss: 0.6595 - val_recall: 0.7794\n",
      "Epoch 7/200\n",
      "36/36 [==============================] - 0s 10ms/step - loss: 0.5666 - recall: 0.7092 - val_loss: 0.5460 - val_recall: 0.6667\n",
      "Epoch 8/200\n",
      "36/36 [==============================] - 0s 13ms/step - loss: 0.5542 - recall: 0.7092 - val_loss: 0.5492 - val_recall: 0.7010\n",
      "Epoch 9/200\n",
      "36/36 [==============================] - 0s 12ms/step - loss: 0.5452 - recall: 0.7158 - val_loss: 0.6085 - val_recall: 0.7843\n",
      "Epoch 10/200\n",
      "36/36 [==============================] - 0s 11ms/step - loss: 0.5346 - recall: 0.7234 - val_loss: 0.5329 - val_recall: 0.7402\n",
      "Epoch 11/200\n",
      "36/36 [==============================] - 0s 11ms/step - loss: 0.5222 - recall: 0.7414 - val_loss: 0.5267 - val_recall: 0.7304\n",
      "Epoch 12/200\n",
      "36/36 [==============================] - 0s 11ms/step - loss: 0.5108 - recall: 0.7392 - val_loss: 0.5795 - val_recall: 0.8137\n",
      "Epoch 13/200\n",
      "36/36 [==============================] - 0s 11ms/step - loss: 0.5007 - recall: 0.7496 - val_loss: 0.5031 - val_recall: 0.7500\n",
      "Epoch 14/200\n",
      "36/36 [==============================] - 0s 11ms/step - loss: 0.4949 - recall: 0.7501 - val_loss: 0.4787 - val_recall: 0.7010\n",
      "Epoch 15/200\n",
      "36/36 [==============================] - 0s 10ms/step - loss: 0.4911 - recall: 0.7501 - val_loss: 0.4715 - val_recall: 0.7206\n",
      "Epoch 16/200\n",
      "36/36 [==============================] - 0s 10ms/step - loss: 0.4870 - recall: 0.7414 - val_loss: 0.5340 - val_recall: 0.7941\n",
      "Epoch 17/200\n",
      "36/36 [==============================] - 0s 9ms/step - loss: 0.4881 - recall: 0.7534 - val_loss: 0.4448 - val_recall: 0.6814\n",
      "Epoch 18/200\n",
      "36/36 [==============================] - 0s 10ms/step - loss: 0.4820 - recall: 0.7447 - val_loss: 0.5397 - val_recall: 0.8137\n",
      "Epoch 19/200\n",
      "36/36 [==============================] - 0s 11ms/step - loss: 0.4803 - recall: 0.7501 - val_loss: 0.4972 - val_recall: 0.7500\n",
      "Epoch 20/200\n",
      "36/36 [==============================] - 0s 10ms/step - loss: 0.4792 - recall: 0.7561 - val_loss: 0.4979 - val_recall: 0.7549\n",
      "Epoch 21/200\n",
      "36/36 [==============================] - 0s 10ms/step - loss: 0.4768 - recall: 0.7589 - val_loss: 0.4828 - val_recall: 0.7402\n",
      "Epoch 22/200\n",
      "36/36 [==============================] - 0s 10ms/step - loss: 0.4766 - recall: 0.7545 - val_loss: 0.4634 - val_recall: 0.7206\n",
      "Epoch 23/200\n",
      "36/36 [==============================] - 0s 10ms/step - loss: 0.4741 - recall: 0.7529 - val_loss: 0.4515 - val_recall: 0.7206\n",
      "Epoch 24/200\n",
      "36/36 [==============================] - 0s 10ms/step - loss: 0.4765 - recall: 0.7430 - val_loss: 0.4762 - val_recall: 0.7353\n",
      "Epoch 25/200\n",
      "36/36 [==============================] - 0s 10ms/step - loss: 0.4726 - recall: 0.7605 - val_loss: 0.4425 - val_recall: 0.6961\n",
      "Epoch 26/200\n",
      "36/36 [==============================] - 0s 11ms/step - loss: 0.4701 - recall: 0.7627 - val_loss: 0.4464 - val_recall: 0.7157\n",
      "Epoch 27/200\n",
      "36/36 [==============================] - 0s 10ms/step - loss: 0.4715 - recall: 0.7507 - val_loss: 0.5051 - val_recall: 0.7696\n",
      "Epoch 28/200\n",
      "36/36 [==============================] - 0s 10ms/step - loss: 0.4734 - recall: 0.7550 - val_loss: 0.4702 - val_recall: 0.7402\n",
      "Epoch 29/200\n",
      "36/36 [==============================] - 0s 10ms/step - loss: 0.4699 - recall: 0.7507 - val_loss: 0.4759 - val_recall: 0.7549\n",
      "Epoch 30/200\n",
      "36/36 [==============================] - 0s 10ms/step - loss: 0.4684 - recall: 0.7600 - val_loss: 0.4553 - val_recall: 0.7255\n",
      "Epoch 31/200\n",
      "36/36 [==============================] - 0s 13ms/step - loss: 0.4692 - recall: 0.7610 - val_loss: 0.4480 - val_recall: 0.7059\n",
      "Epoch 32/200\n",
      "36/36 [==============================] - 0s 11ms/step - loss: 0.4694 - recall: 0.7681 - val_loss: 0.4368 - val_recall: 0.6765\n",
      "Epoch 33/200\n",
      "36/36 [==============================] - 0s 11ms/step - loss: 0.4724 - recall: 0.7578 - val_loss: 0.4276 - val_recall: 0.6814\n",
      "Epoch 34/200\n",
      "36/36 [==============================] - 0s 13ms/step - loss: 0.4706 - recall: 0.7545 - val_loss: 0.5177 - val_recall: 0.7990\n",
      "Epoch 35/200\n",
      "36/36 [==============================] - 0s 11ms/step - loss: 0.4649 - recall: 0.7621 - val_loss: 0.5486 - val_recall: 0.8039\n",
      "Epoch 36/200\n",
      "36/36 [==============================] - 0s 10ms/step - loss: 0.4673 - recall: 0.7540 - val_loss: 0.5247 - val_recall: 0.8039\n",
      "Epoch 37/200\n",
      "36/36 [==============================] - 0s 10ms/step - loss: 0.4636 - recall: 0.7610 - val_loss: 0.4797 - val_recall: 0.7598\n",
      "Epoch 38/200\n",
      "36/36 [==============================] - 0s 10ms/step - loss: 0.4656 - recall: 0.7616 - val_loss: 0.4320 - val_recall: 0.7059\n",
      "Epoch 39/200\n",
      "36/36 [==============================] - 0s 11ms/step - loss: 0.4622 - recall: 0.7698 - val_loss: 0.4260 - val_recall: 0.6667\n",
      "Epoch 40/200\n",
      "36/36 [==============================] - 0s 10ms/step - loss: 0.4670 - recall: 0.7463 - val_loss: 0.5145 - val_recall: 0.7990\n",
      "Epoch 41/200\n",
      "36/36 [==============================] - 0s 10ms/step - loss: 0.4615 - recall: 0.7610 - val_loss: 0.5164 - val_recall: 0.8039\n",
      "Epoch 42/200\n",
      "36/36 [==============================] - 0s 9ms/step - loss: 0.4623 - recall: 0.7589 - val_loss: 0.4624 - val_recall: 0.7353\n",
      "Epoch 43/200\n",
      "36/36 [==============================] - 0s 12ms/step - loss: 0.4614 - recall: 0.7643 - val_loss: 0.5011 - val_recall: 0.7941\n",
      "Epoch 44/200\n",
      "36/36 [==============================] - 0s 11ms/step - loss: 0.4621 - recall: 0.7681 - val_loss: 0.4304 - val_recall: 0.6912\n",
      "Epoch 45/200\n",
      "36/36 [==============================] - 0s 11ms/step - loss: 0.4614 - recall: 0.7589 - val_loss: 0.5387 - val_recall: 0.8186\n",
      "Epoch 46/200\n",
      "36/36 [==============================] - 0s 12ms/step - loss: 0.4649 - recall: 0.7676 - val_loss: 0.5101 - val_recall: 0.7892\n",
      "Epoch 47/200\n",
      "36/36 [==============================] - 0s 10ms/step - loss: 0.4630 - recall: 0.7540 - val_loss: 0.5438 - val_recall: 0.8284\n",
      "Epoch 48/200\n",
      "36/36 [==============================] - 0s 8ms/step - loss: 0.4625 - recall: 0.7632 - val_loss: 0.4878 - val_recall: 0.7794\n",
      "Epoch 49/200\n",
      "36/36 [==============================] - 0s 8ms/step - loss: 0.4592 - recall: 0.7600 - val_loss: 0.4121 - val_recall: 0.6667\n",
      "Epoch 50/200\n",
      "36/36 [==============================] - 0s 8ms/step - loss: 0.4586 - recall: 0.7638 - val_loss: 0.4849 - val_recall: 0.7843\n",
      "Epoch 51/200\n",
      "36/36 [==============================] - 0s 9ms/step - loss: 0.4575 - recall: 0.7714 - val_loss: 0.4813 - val_recall: 0.7647\n",
      "Epoch 52/200\n",
      "36/36 [==============================] - 0s 9ms/step - loss: 0.4574 - recall: 0.7687 - val_loss: 0.4727 - val_recall: 0.7745\n",
      "Epoch 53/200\n",
      "36/36 [==============================] - 0s 9ms/step - loss: 0.4573 - recall: 0.7681 - val_loss: 0.4312 - val_recall: 0.7108\n",
      "Epoch 54/200\n",
      "36/36 [==============================] - 0s 8ms/step - loss: 0.4609 - recall: 0.7610 - val_loss: 0.5096 - val_recall: 0.7941\n",
      "Epoch 55/200\n",
      "36/36 [==============================] - 0s 11ms/step - loss: 0.4578 - recall: 0.7703 - val_loss: 0.4895 - val_recall: 0.7843\n",
      "Epoch 56/200\n",
      "36/36 [==============================] - 0s 7ms/step - loss: 0.4581 - recall: 0.7747 - val_loss: 0.4492 - val_recall: 0.7304\n",
      "Epoch 57/200\n",
      "36/36 [==============================] - 0s 6ms/step - loss: 0.4556 - recall: 0.7725 - val_loss: 0.4357 - val_recall: 0.7059\n",
      "Epoch 58/200\n",
      "36/36 [==============================] - 0s 6ms/step - loss: 0.4551 - recall: 0.7654 - val_loss: 0.4350 - val_recall: 0.7157\n",
      "Epoch 59/200\n",
      "36/36 [==============================] - 0s 7ms/step - loss: 0.4598 - recall: 0.7534 - val_loss: 0.4864 - val_recall: 0.7647\n",
      "Epoch 60/200\n"
     ]
    },
    {
     "name": "stdout",
     "output_type": "stream",
     "text": [
      "36/36 [==============================] - 0s 6ms/step - loss: 0.4600 - recall: 0.7638 - val_loss: 0.4457 - val_recall: 0.7255\n",
      "Epoch 61/200\n",
      "36/36 [==============================] - 0s 8ms/step - loss: 0.4571 - recall: 0.7703 - val_loss: 0.4631 - val_recall: 0.7451\n",
      "Epoch 62/200\n",
      "36/36 [==============================] - 0s 9ms/step - loss: 0.4538 - recall: 0.7714 - val_loss: 0.4785 - val_recall: 0.7843\n",
      "Epoch 63/200\n",
      "36/36 [==============================] - 0s 9ms/step - loss: 0.4554 - recall: 0.7720 - val_loss: 0.4659 - val_recall: 0.7647\n",
      "Epoch 64/200\n",
      "36/36 [==============================] - 0s 9ms/step - loss: 0.4547 - recall: 0.7692 - val_loss: 0.4431 - val_recall: 0.7304\n",
      "Epoch 64: early stopping\n"
     ]
    },
    {
     "data": {
      "text/plain": [
       "<keras.callbacks.History at 0x1daae5c91f0>"
      ]
     },
     "execution_count": 77,
     "metadata": {},
     "output_type": "execute_result"
    }
   ],
   "source": [
    "tf.random.set_seed(seed)\n",
    "\n",
    "model = Sequential()\n",
    "\n",
    "model.add(Dense(20, activation=\"relu\"))\n",
    "model.add(Dense(10, activation=\"relu\"))\n",
    "model.add(Dense(1, activation=\"sigmoid\"))\n",
    "\n",
    "opt = Adam(lr=0.003)\n",
    "\n",
    "model.compile(optimizer=opt,\n",
    "              loss=\"binary_crossentropy\",\n",
    "              metrics=[\"Recall\"])\n",
    "\n",
    "model.fit(x=X_train,\n",
    "          y=y_train,\n",
    "          validation_data=(X_test, y_test), \n",
    "          callbacks=[early_stop],\n",
    "          batch_size=256,\n",
    "          epochs=200,\n",
    "          verbose=1,\n",
    "          class_weight=class_weights)"
   ]
  },
  {
   "cell_type": "code",
   "execution_count": 78,
   "metadata": {},
   "outputs": [
    {
     "name": "stdout",
     "output_type": "stream",
     "text": [
      "loss :  0.443135529756546\n",
      "recall :  0.7303921580314636\n"
     ]
    }
   ],
   "source": [
    "loss, recall = model.evaluate(X_test, y_test, verbose=0)\n",
    "print(\"loss : \", loss)\n",
    "print(\"recall : \", recall)"
   ]
  },
  {
   "cell_type": "code",
   "execution_count": 79,
   "metadata": {},
   "outputs": [
    {
     "name": "stdout",
     "output_type": "stream",
     "text": [
      "[[641 155]\n",
      " [ 55 149]]\n",
      "              precision    recall  f1-score   support\n",
      "\n",
      "           0       0.92      0.81      0.86       796\n",
      "           1       0.49      0.73      0.59       204\n",
      "\n",
      "    accuracy                           0.79      1000\n",
      "   macro avg       0.71      0.77      0.72      1000\n",
      "weighted avg       0.83      0.79      0.80      1000\n",
      "\n"
     ]
    }
   ],
   "source": [
    "y_pred = (model.predict(X_test) > 0.5).astype(\"int32\")\n",
    "print(confusion_matrix(y_test, y_pred))\n",
    "print(classification_report(y_test, y_pred))"
   ]
  },
  {
   "cell_type": "code",
   "execution_count": 80,
   "metadata": {},
   "outputs": [],
   "source": [
    "model.save('model_churn.h5')"
   ]
  },
  {
   "cell_type": "code",
   "execution_count": null,
   "metadata": {},
   "outputs": [],
   "source": []
  },
  {
   "cell_type": "code",
   "execution_count": null,
   "metadata": {},
   "outputs": [],
   "source": []
  },
  {
   "cell_type": "markdown",
   "metadata": {
    "id": "Cq10ovAX6daY"
   },
   "source": [
    "### Prediction"
   ]
  },
  {
   "cell_type": "code",
   "execution_count": 89,
   "metadata": {},
   "outputs": [
    {
     "data": {
      "text/plain": [
       "CreditScore            619.000\n",
       "Age                     42.000\n",
       "Tenure                   2.000\n",
       "Balance                  0.000\n",
       "NumOfProducts            1.000\n",
       "HasCrCard                1.000\n",
       "IsActiveMember           1.000\n",
       "EstimatedSalary     101348.880\n",
       "Geography_Germany        0.000\n",
       "Geography_Spain          0.000\n",
       "Gender_Male              0.000\n",
       "Name: 0, dtype: float64"
      ]
     },
     "execution_count": 89,
     "metadata": {},
     "output_type": "execute_result"
    }
   ],
   "source": [
    "single_customer = df.drop('Exited', axis=1).iloc[0]\n",
    "single_customer"
   ]
  },
  {
   "cell_type": "code",
   "execution_count": 90,
   "metadata": {},
   "outputs": [
    {
     "data": {
      "text/plain": [
       "array([[0.538     , 0.32432432, 0.2       , 0.        , 0.        ,\n",
       "        1.        , 1.        , 0.50673489, 0.        , 0.        ,\n",
       "        0.        ]])"
      ]
     },
     "execution_count": 90,
     "metadata": {},
     "output_type": "execute_result"
    }
   ],
   "source": [
    "single_customer = scaler.transform(single_customer.values.reshape(-1, 11))\n",
    "single_customer"
   ]
  },
  {
   "cell_type": "code",
   "execution_count": 91,
   "metadata": {},
   "outputs": [
    {
     "data": {
      "text/plain": [
       "array([[1]])"
      ]
     },
     "execution_count": 91,
     "metadata": {},
     "output_type": "execute_result"
    }
   ],
   "source": [
    "y_pred =(model.predict(single_customer) > 0.5).astype(\"int32\")\n",
    "y_pred"
   ]
  },
  {
   "cell_type": "code",
   "execution_count": 92,
   "metadata": {},
   "outputs": [
    {
     "data": {
      "text/plain": [
       "1"
      ]
     },
     "execution_count": 92,
     "metadata": {},
     "output_type": "execute_result"
    }
   ],
   "source": [
    "df[\"Exited\"].iloc[0]"
   ]
  },
  {
   "cell_type": "code",
   "execution_count": null,
   "metadata": {},
   "outputs": [],
   "source": []
  },
  {
   "cell_type": "markdown",
   "metadata": {},
   "source": [
    "___\n",
    "\n",
    "<p style=\"text-align: center;\"><img src=\"https://docs.google.com/uc?id=1lY0Uj5R04yMY3-ZppPWxqCr5pvBLYPnV\" class=\"img-fluid\" alt=\"CLRSWY\"></p>\n",
    "\n",
    "___"
   ]
  }
 ],
 "metadata": {
  "colab": {
   "authorship_tag": "ABX9TyPKBWWuNpSuP7DHsa+Zpo3l",
   "collapsed_sections": [],
   "name": "Untitled0.ipynb",
   "provenance": []
  },
  "kernelspec": {
   "display_name": "Python 3 (ipykernel)",
   "language": "python",
   "name": "python3"
  },
  "language_info": {
   "codemirror_mode": {
    "name": "ipython",
    "version": 3
   },
   "file_extension": ".py",
   "mimetype": "text/x-python",
   "name": "python",
   "nbconvert_exporter": "python",
   "pygments_lexer": "ipython3",
   "version": "3.8.12"
  },
  "toc": {
   "base_numbering": 1,
   "nav_menu": {},
   "number_sections": true,
   "sideBar": true,
   "skip_h1_title": false,
   "title_cell": "Table of Contents",
   "title_sidebar": "Contents",
   "toc_cell": false,
   "toc_position": {},
   "toc_section_display": true,
   "toc_window_display": false
  }
 },
 "nbformat": 4,
 "nbformat_minor": 1
}
